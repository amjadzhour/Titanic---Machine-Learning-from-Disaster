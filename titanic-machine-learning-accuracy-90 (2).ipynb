{
 "cells": [
  {
   "cell_type": "markdown",
   "id": "53bd0fa3",
   "metadata": {
    "papermill": {
     "duration": 0.018186,
     "end_time": "2024-07-20T21:41:25.484492",
     "exception": false,
     "start_time": "2024-07-20T21:41:25.466306",
     "status": "completed"
    },
    "tags": []
   },
   "source": [
    "#  <p style=\"width: 800px; border-radius: 12px; border: 3px dashed #ffe81c; padding: 20px; background-color: #1a3d52; text-align: center; box-shadow: 0px 6px 12px rgba(0, 0, 0, 0.3); color: #ffe81c; text-shadow: 1px 1px 2px rgba(0, 0, 0, 0.3); font-weight: bold; margin-bottom: 15px; font-size: 30px;\"> Titanic - Machine Learning </p>\n",
    "    "
   ]
  },
  {
   "cell_type": "markdown",
   "id": "c9008a87",
   "metadata": {
    "papermill": {
     "duration": 0.018478,
     "end_time": "2024-07-20T21:41:25.520960",
     "exception": false,
     "start_time": "2024-07-20T21:41:25.502482",
     "status": "completed"
    },
    "tags": []
   },
   "source": []
  },
  {
   "cell_type": "markdown",
   "id": "01a20e8e",
   "metadata": {
    "papermill": {
     "duration": 0.017489,
     "end_time": "2024-07-20T21:41:25.555987",
     "exception": false,
     "start_time": "2024-07-20T21:41:25.538498",
     "status": "completed"
    },
    "tags": []
   },
   "source": [
    "# The Challenge\n",
    "The sinking of the Titanic is one of the most infamous shipwrecks in history.\n",
    "\n",
    "On April 15, 1912, during her maiden voyage, the widely considered “unsinkable” RMS Titanic sank after colliding with an iceberg. Unfortunately, there weren’t enough lifeboats for everyone onboard, resulting in the death of 1502 out of 2224 passengers and crew.\n",
    "\n",
    "While there was some element of luck involved in surviving, it seems some groups of people were more likely to survive than others.\n",
    "\n",
    "In this challenge, we ask you to build a predictive model that answers the question: “what sorts of people were more likely to survive?” using passenger data (ie name, age, gender, socio-economic class, etc).\n",
    "\n"
   ]
  },
  {
   "cell_type": "markdown",
   "id": "bca8b029",
   "metadata": {
    "papermill": {
     "duration": 0.017837,
     "end_time": "2024-07-20T21:41:25.591391",
     "exception": false,
     "start_time": "2024-07-20T21:41:25.573554",
     "status": "completed"
    },
    "tags": []
   },
   "source": [
    "# <p style=\"width: 800px; border-radius: 12px; border: 3px dashed #ffe81c; padding: 20px; background-color: #1a3d52; text-align: center; box-shadow: 0px 6px 12px rgba(0, 0, 0, 0.3); color: #ffe81c; text-shadow: 1px 1px 2px rgba(0, 0, 0, 0.3); font-weight: bold; margin-bottom: 15px; font-size: 30px;\"> Readers data</p>"
   ]
  },
  {
   "cell_type": "code",
   "execution_count": 1,
   "id": "1ff25053",
   "metadata": {
    "execution": {
     "iopub.execute_input": "2024-07-20T21:41:25.628315Z",
     "iopub.status.busy": "2024-07-20T21:41:25.627937Z",
     "iopub.status.idle": "2024-07-20T21:41:28.217476Z",
     "shell.execute_reply": "2024-07-20T21:41:28.216425Z"
    },
    "papermill": {
     "duration": 2.610846,
     "end_time": "2024-07-20T21:41:28.219917",
     "exception": false,
     "start_time": "2024-07-20T21:41:25.609071",
     "status": "completed"
    },
    "tags": []
   },
   "outputs": [],
   "source": [
    "import pandas as pd \n",
    "import numpy as np \n",
    "import seaborn as sns \n",
    "import matplotlib.pyplot as plt \n",
    "from sklearn.preprocessing import LabelEncoder\n",
    "from sklearn.ensemble import RandomForestClassifier\n",
    "from sklearn.metrics import confusion_matrix,classification_report,recall_score,precision_score\n",
    "from sklearn.model_selection import train_test_split,GridSearchCV\n",
    "from sklearn.preprocessing import StandardScaler"
   ]
  },
  {
   "cell_type": "code",
   "execution_count": 2,
   "id": "016602ad",
   "metadata": {
    "execution": {
     "iopub.execute_input": "2024-07-20T21:41:28.258344Z",
     "iopub.status.busy": "2024-07-20T21:41:28.257252Z",
     "iopub.status.idle": "2024-07-20T21:41:28.279920Z",
     "shell.execute_reply": "2024-07-20T21:41:28.278929Z"
    },
    "papermill": {
     "duration": 0.044505,
     "end_time": "2024-07-20T21:41:28.282453",
     "exception": false,
     "start_time": "2024-07-20T21:41:28.237948",
     "status": "completed"
    },
    "tags": []
   },
   "outputs": [],
   "source": [
    "df=pd.read_csv('/kaggle/input/titanic/train.csv')\n"
   ]
  },
  {
   "cell_type": "code",
   "execution_count": 3,
   "id": "8b84aa80",
   "metadata": {
    "execution": {
     "iopub.execute_input": "2024-07-20T21:41:28.320559Z",
     "iopub.status.busy": "2024-07-20T21:41:28.320157Z",
     "iopub.status.idle": "2024-07-20T21:41:28.351194Z",
     "shell.execute_reply": "2024-07-20T21:41:28.350152Z"
    },
    "papermill": {
     "duration": 0.052293,
     "end_time": "2024-07-20T21:41:28.353503",
     "exception": false,
     "start_time": "2024-07-20T21:41:28.301210",
     "status": "completed"
    },
    "tags": []
   },
   "outputs": [
    {
     "data": {
      "text/html": [
       "<div>\n",
       "<style scoped>\n",
       "    .dataframe tbody tr th:only-of-type {\n",
       "        vertical-align: middle;\n",
       "    }\n",
       "\n",
       "    .dataframe tbody tr th {\n",
       "        vertical-align: top;\n",
       "    }\n",
       "\n",
       "    .dataframe thead th {\n",
       "        text-align: right;\n",
       "    }\n",
       "</style>\n",
       "<table border=\"1\" class=\"dataframe\">\n",
       "  <thead>\n",
       "    <tr style=\"text-align: right;\">\n",
       "      <th></th>\n",
       "      <th>PassengerId</th>\n",
       "      <th>Survived</th>\n",
       "      <th>Pclass</th>\n",
       "      <th>Name</th>\n",
       "      <th>Sex</th>\n",
       "      <th>Age</th>\n",
       "      <th>SibSp</th>\n",
       "      <th>Parch</th>\n",
       "      <th>Ticket</th>\n",
       "      <th>Fare</th>\n",
       "      <th>Cabin</th>\n",
       "      <th>Embarked</th>\n",
       "    </tr>\n",
       "  </thead>\n",
       "  <tbody>\n",
       "    <tr>\n",
       "      <th>0</th>\n",
       "      <td>1</td>\n",
       "      <td>0</td>\n",
       "      <td>3</td>\n",
       "      <td>Braund, Mr. Owen Harris</td>\n",
       "      <td>male</td>\n",
       "      <td>22.0</td>\n",
       "      <td>1</td>\n",
       "      <td>0</td>\n",
       "      <td>A/5 21171</td>\n",
       "      <td>7.2500</td>\n",
       "      <td>NaN</td>\n",
       "      <td>S</td>\n",
       "    </tr>\n",
       "    <tr>\n",
       "      <th>1</th>\n",
       "      <td>2</td>\n",
       "      <td>1</td>\n",
       "      <td>1</td>\n",
       "      <td>Cumings, Mrs. John Bradley (Florence Briggs Th...</td>\n",
       "      <td>female</td>\n",
       "      <td>38.0</td>\n",
       "      <td>1</td>\n",
       "      <td>0</td>\n",
       "      <td>PC 17599</td>\n",
       "      <td>71.2833</td>\n",
       "      <td>C85</td>\n",
       "      <td>C</td>\n",
       "    </tr>\n",
       "    <tr>\n",
       "      <th>2</th>\n",
       "      <td>3</td>\n",
       "      <td>1</td>\n",
       "      <td>3</td>\n",
       "      <td>Heikkinen, Miss. Laina</td>\n",
       "      <td>female</td>\n",
       "      <td>26.0</td>\n",
       "      <td>0</td>\n",
       "      <td>0</td>\n",
       "      <td>STON/O2. 3101282</td>\n",
       "      <td>7.9250</td>\n",
       "      <td>NaN</td>\n",
       "      <td>S</td>\n",
       "    </tr>\n",
       "    <tr>\n",
       "      <th>3</th>\n",
       "      <td>4</td>\n",
       "      <td>1</td>\n",
       "      <td>1</td>\n",
       "      <td>Futrelle, Mrs. Jacques Heath (Lily May Peel)</td>\n",
       "      <td>female</td>\n",
       "      <td>35.0</td>\n",
       "      <td>1</td>\n",
       "      <td>0</td>\n",
       "      <td>113803</td>\n",
       "      <td>53.1000</td>\n",
       "      <td>C123</td>\n",
       "      <td>S</td>\n",
       "    </tr>\n",
       "    <tr>\n",
       "      <th>4</th>\n",
       "      <td>5</td>\n",
       "      <td>0</td>\n",
       "      <td>3</td>\n",
       "      <td>Allen, Mr. William Henry</td>\n",
       "      <td>male</td>\n",
       "      <td>35.0</td>\n",
       "      <td>0</td>\n",
       "      <td>0</td>\n",
       "      <td>373450</td>\n",
       "      <td>8.0500</td>\n",
       "      <td>NaN</td>\n",
       "      <td>S</td>\n",
       "    </tr>\n",
       "    <tr>\n",
       "      <th>...</th>\n",
       "      <td>...</td>\n",
       "      <td>...</td>\n",
       "      <td>...</td>\n",
       "      <td>...</td>\n",
       "      <td>...</td>\n",
       "      <td>...</td>\n",
       "      <td>...</td>\n",
       "      <td>...</td>\n",
       "      <td>...</td>\n",
       "      <td>...</td>\n",
       "      <td>...</td>\n",
       "      <td>...</td>\n",
       "    </tr>\n",
       "    <tr>\n",
       "      <th>886</th>\n",
       "      <td>887</td>\n",
       "      <td>0</td>\n",
       "      <td>2</td>\n",
       "      <td>Montvila, Rev. Juozas</td>\n",
       "      <td>male</td>\n",
       "      <td>27.0</td>\n",
       "      <td>0</td>\n",
       "      <td>0</td>\n",
       "      <td>211536</td>\n",
       "      <td>13.0000</td>\n",
       "      <td>NaN</td>\n",
       "      <td>S</td>\n",
       "    </tr>\n",
       "    <tr>\n",
       "      <th>887</th>\n",
       "      <td>888</td>\n",
       "      <td>1</td>\n",
       "      <td>1</td>\n",
       "      <td>Graham, Miss. Margaret Edith</td>\n",
       "      <td>female</td>\n",
       "      <td>19.0</td>\n",
       "      <td>0</td>\n",
       "      <td>0</td>\n",
       "      <td>112053</td>\n",
       "      <td>30.0000</td>\n",
       "      <td>B42</td>\n",
       "      <td>S</td>\n",
       "    </tr>\n",
       "    <tr>\n",
       "      <th>888</th>\n",
       "      <td>889</td>\n",
       "      <td>0</td>\n",
       "      <td>3</td>\n",
       "      <td>Johnston, Miss. Catherine Helen \"Carrie\"</td>\n",
       "      <td>female</td>\n",
       "      <td>NaN</td>\n",
       "      <td>1</td>\n",
       "      <td>2</td>\n",
       "      <td>W./C. 6607</td>\n",
       "      <td>23.4500</td>\n",
       "      <td>NaN</td>\n",
       "      <td>S</td>\n",
       "    </tr>\n",
       "    <tr>\n",
       "      <th>889</th>\n",
       "      <td>890</td>\n",
       "      <td>1</td>\n",
       "      <td>1</td>\n",
       "      <td>Behr, Mr. Karl Howell</td>\n",
       "      <td>male</td>\n",
       "      <td>26.0</td>\n",
       "      <td>0</td>\n",
       "      <td>0</td>\n",
       "      <td>111369</td>\n",
       "      <td>30.0000</td>\n",
       "      <td>C148</td>\n",
       "      <td>C</td>\n",
       "    </tr>\n",
       "    <tr>\n",
       "      <th>890</th>\n",
       "      <td>891</td>\n",
       "      <td>0</td>\n",
       "      <td>3</td>\n",
       "      <td>Dooley, Mr. Patrick</td>\n",
       "      <td>male</td>\n",
       "      <td>32.0</td>\n",
       "      <td>0</td>\n",
       "      <td>0</td>\n",
       "      <td>370376</td>\n",
       "      <td>7.7500</td>\n",
       "      <td>NaN</td>\n",
       "      <td>Q</td>\n",
       "    </tr>\n",
       "  </tbody>\n",
       "</table>\n",
       "<p>891 rows × 12 columns</p>\n",
       "</div>"
      ],
      "text/plain": [
       "     PassengerId  Survived  Pclass  \\\n",
       "0              1         0       3   \n",
       "1              2         1       1   \n",
       "2              3         1       3   \n",
       "3              4         1       1   \n",
       "4              5         0       3   \n",
       "..           ...       ...     ...   \n",
       "886          887         0       2   \n",
       "887          888         1       1   \n",
       "888          889         0       3   \n",
       "889          890         1       1   \n",
       "890          891         0       3   \n",
       "\n",
       "                                                  Name     Sex   Age  SibSp  \\\n",
       "0                              Braund, Mr. Owen Harris    male  22.0      1   \n",
       "1    Cumings, Mrs. John Bradley (Florence Briggs Th...  female  38.0      1   \n",
       "2                               Heikkinen, Miss. Laina  female  26.0      0   \n",
       "3         Futrelle, Mrs. Jacques Heath (Lily May Peel)  female  35.0      1   \n",
       "4                             Allen, Mr. William Henry    male  35.0      0   \n",
       "..                                                 ...     ...   ...    ...   \n",
       "886                              Montvila, Rev. Juozas    male  27.0      0   \n",
       "887                       Graham, Miss. Margaret Edith  female  19.0      0   \n",
       "888           Johnston, Miss. Catherine Helen \"Carrie\"  female   NaN      1   \n",
       "889                              Behr, Mr. Karl Howell    male  26.0      0   \n",
       "890                                Dooley, Mr. Patrick    male  32.0      0   \n",
       "\n",
       "     Parch            Ticket     Fare Cabin Embarked  \n",
       "0        0         A/5 21171   7.2500   NaN        S  \n",
       "1        0          PC 17599  71.2833   C85        C  \n",
       "2        0  STON/O2. 3101282   7.9250   NaN        S  \n",
       "3        0            113803  53.1000  C123        S  \n",
       "4        0            373450   8.0500   NaN        S  \n",
       "..     ...               ...      ...   ...      ...  \n",
       "886      0            211536  13.0000   NaN        S  \n",
       "887      0            112053  30.0000   B42        S  \n",
       "888      2        W./C. 6607  23.4500   NaN        S  \n",
       "889      0            111369  30.0000  C148        C  \n",
       "890      0            370376   7.7500   NaN        Q  \n",
       "\n",
       "[891 rows x 12 columns]"
      ]
     },
     "execution_count": 3,
     "metadata": {},
     "output_type": "execute_result"
    }
   ],
   "source": [
    "df"
   ]
  },
  {
   "cell_type": "code",
   "execution_count": 4,
   "id": "820f43df",
   "metadata": {
    "execution": {
     "iopub.execute_input": "2024-07-20T21:41:28.393351Z",
     "iopub.status.busy": "2024-07-20T21:41:28.392991Z",
     "iopub.status.idle": "2024-07-20T21:41:28.413556Z",
     "shell.execute_reply": "2024-07-20T21:41:28.412425Z"
    },
    "papermill": {
     "duration": 0.042423,
     "end_time": "2024-07-20T21:41:28.415995",
     "exception": false,
     "start_time": "2024-07-20T21:41:28.373572",
     "status": "completed"
    },
    "tags": []
   },
   "outputs": [
    {
     "name": "stdout",
     "output_type": "stream",
     "text": [
      "<class 'pandas.core.frame.DataFrame'>\n",
      "RangeIndex: 891 entries, 0 to 890\n",
      "Data columns (total 12 columns):\n",
      " #   Column       Non-Null Count  Dtype  \n",
      "---  ------       --------------  -----  \n",
      " 0   PassengerId  891 non-null    int64  \n",
      " 1   Survived     891 non-null    int64  \n",
      " 2   Pclass       891 non-null    int64  \n",
      " 3   Name         891 non-null    object \n",
      " 4   Sex          891 non-null    object \n",
      " 5   Age          714 non-null    float64\n",
      " 6   SibSp        891 non-null    int64  \n",
      " 7   Parch        891 non-null    int64  \n",
      " 8   Ticket       891 non-null    object \n",
      " 9   Fare         891 non-null    float64\n",
      " 10  Cabin        204 non-null    object \n",
      " 11  Embarked     889 non-null    object \n",
      "dtypes: float64(2), int64(5), object(5)\n",
      "memory usage: 83.7+ KB\n"
     ]
    }
   ],
   "source": [
    "df.info()"
   ]
  },
  {
   "cell_type": "code",
   "execution_count": 5,
   "id": "0a0b7dac",
   "metadata": {
    "execution": {
     "iopub.execute_input": "2024-07-20T21:41:28.454252Z",
     "iopub.status.busy": "2024-07-20T21:41:28.453894Z",
     "iopub.status.idle": "2024-07-20T21:41:28.471810Z",
     "shell.execute_reply": "2024-07-20T21:41:28.470749Z"
    },
    "papermill": {
     "duration": 0.039801,
     "end_time": "2024-07-20T21:41:28.473986",
     "exception": false,
     "start_time": "2024-07-20T21:41:28.434185",
     "status": "completed"
    },
    "tags": []
   },
   "outputs": [
    {
     "data": {
      "text/html": [
       "<div>\n",
       "<style scoped>\n",
       "    .dataframe tbody tr th:only-of-type {\n",
       "        vertical-align: middle;\n",
       "    }\n",
       "\n",
       "    .dataframe tbody tr th {\n",
       "        vertical-align: top;\n",
       "    }\n",
       "\n",
       "    .dataframe thead th {\n",
       "        text-align: right;\n",
       "    }\n",
       "</style>\n",
       "<table border=\"1\" class=\"dataframe\">\n",
       "  <thead>\n",
       "    <tr style=\"text-align: right;\">\n",
       "      <th></th>\n",
       "      <th>PassengerId</th>\n",
       "      <th>Survived</th>\n",
       "      <th>Pclass</th>\n",
       "      <th>Name</th>\n",
       "      <th>Sex</th>\n",
       "      <th>Age</th>\n",
       "      <th>SibSp</th>\n",
       "      <th>Parch</th>\n",
       "      <th>Ticket</th>\n",
       "      <th>Fare</th>\n",
       "      <th>Cabin</th>\n",
       "      <th>Embarked</th>\n",
       "    </tr>\n",
       "  </thead>\n",
       "  <tbody>\n",
       "    <tr>\n",
       "      <th>0</th>\n",
       "      <td>1</td>\n",
       "      <td>0</td>\n",
       "      <td>3</td>\n",
       "      <td>Braund, Mr. Owen Harris</td>\n",
       "      <td>male</td>\n",
       "      <td>22.0</td>\n",
       "      <td>1</td>\n",
       "      <td>0</td>\n",
       "      <td>A/5 21171</td>\n",
       "      <td>7.2500</td>\n",
       "      <td>NaN</td>\n",
       "      <td>S</td>\n",
       "    </tr>\n",
       "    <tr>\n",
       "      <th>1</th>\n",
       "      <td>2</td>\n",
       "      <td>1</td>\n",
       "      <td>1</td>\n",
       "      <td>Cumings, Mrs. John Bradley (Florence Briggs Th...</td>\n",
       "      <td>female</td>\n",
       "      <td>38.0</td>\n",
       "      <td>1</td>\n",
       "      <td>0</td>\n",
       "      <td>PC 17599</td>\n",
       "      <td>71.2833</td>\n",
       "      <td>C85</td>\n",
       "      <td>C</td>\n",
       "    </tr>\n",
       "    <tr>\n",
       "      <th>2</th>\n",
       "      <td>3</td>\n",
       "      <td>1</td>\n",
       "      <td>3</td>\n",
       "      <td>Heikkinen, Miss. Laina</td>\n",
       "      <td>female</td>\n",
       "      <td>26.0</td>\n",
       "      <td>0</td>\n",
       "      <td>0</td>\n",
       "      <td>STON/O2. 3101282</td>\n",
       "      <td>7.9250</td>\n",
       "      <td>NaN</td>\n",
       "      <td>S</td>\n",
       "    </tr>\n",
       "    <tr>\n",
       "      <th>3</th>\n",
       "      <td>4</td>\n",
       "      <td>1</td>\n",
       "      <td>1</td>\n",
       "      <td>Futrelle, Mrs. Jacques Heath (Lily May Peel)</td>\n",
       "      <td>female</td>\n",
       "      <td>35.0</td>\n",
       "      <td>1</td>\n",
       "      <td>0</td>\n",
       "      <td>113803</td>\n",
       "      <td>53.1000</td>\n",
       "      <td>C123</td>\n",
       "      <td>S</td>\n",
       "    </tr>\n",
       "    <tr>\n",
       "      <th>4</th>\n",
       "      <td>5</td>\n",
       "      <td>0</td>\n",
       "      <td>3</td>\n",
       "      <td>Allen, Mr. William Henry</td>\n",
       "      <td>male</td>\n",
       "      <td>35.0</td>\n",
       "      <td>0</td>\n",
       "      <td>0</td>\n",
       "      <td>373450</td>\n",
       "      <td>8.0500</td>\n",
       "      <td>NaN</td>\n",
       "      <td>S</td>\n",
       "    </tr>\n",
       "    <tr>\n",
       "      <th>...</th>\n",
       "      <td>...</td>\n",
       "      <td>...</td>\n",
       "      <td>...</td>\n",
       "      <td>...</td>\n",
       "      <td>...</td>\n",
       "      <td>...</td>\n",
       "      <td>...</td>\n",
       "      <td>...</td>\n",
       "      <td>...</td>\n",
       "      <td>...</td>\n",
       "      <td>...</td>\n",
       "      <td>...</td>\n",
       "    </tr>\n",
       "    <tr>\n",
       "      <th>886</th>\n",
       "      <td>887</td>\n",
       "      <td>0</td>\n",
       "      <td>2</td>\n",
       "      <td>Montvila, Rev. Juozas</td>\n",
       "      <td>male</td>\n",
       "      <td>27.0</td>\n",
       "      <td>0</td>\n",
       "      <td>0</td>\n",
       "      <td>211536</td>\n",
       "      <td>13.0000</td>\n",
       "      <td>NaN</td>\n",
       "      <td>S</td>\n",
       "    </tr>\n",
       "    <tr>\n",
       "      <th>887</th>\n",
       "      <td>888</td>\n",
       "      <td>1</td>\n",
       "      <td>1</td>\n",
       "      <td>Graham, Miss. Margaret Edith</td>\n",
       "      <td>female</td>\n",
       "      <td>19.0</td>\n",
       "      <td>0</td>\n",
       "      <td>0</td>\n",
       "      <td>112053</td>\n",
       "      <td>30.0000</td>\n",
       "      <td>B42</td>\n",
       "      <td>S</td>\n",
       "    </tr>\n",
       "    <tr>\n",
       "      <th>888</th>\n",
       "      <td>889</td>\n",
       "      <td>0</td>\n",
       "      <td>3</td>\n",
       "      <td>Johnston, Miss. Catherine Helen \"Carrie\"</td>\n",
       "      <td>female</td>\n",
       "      <td>NaN</td>\n",
       "      <td>1</td>\n",
       "      <td>2</td>\n",
       "      <td>W./C. 6607</td>\n",
       "      <td>23.4500</td>\n",
       "      <td>NaN</td>\n",
       "      <td>S</td>\n",
       "    </tr>\n",
       "    <tr>\n",
       "      <th>889</th>\n",
       "      <td>890</td>\n",
       "      <td>1</td>\n",
       "      <td>1</td>\n",
       "      <td>Behr, Mr. Karl Howell</td>\n",
       "      <td>male</td>\n",
       "      <td>26.0</td>\n",
       "      <td>0</td>\n",
       "      <td>0</td>\n",
       "      <td>111369</td>\n",
       "      <td>30.0000</td>\n",
       "      <td>C148</td>\n",
       "      <td>C</td>\n",
       "    </tr>\n",
       "    <tr>\n",
       "      <th>890</th>\n",
       "      <td>891</td>\n",
       "      <td>0</td>\n",
       "      <td>3</td>\n",
       "      <td>Dooley, Mr. Patrick</td>\n",
       "      <td>male</td>\n",
       "      <td>32.0</td>\n",
       "      <td>0</td>\n",
       "      <td>0</td>\n",
       "      <td>370376</td>\n",
       "      <td>7.7500</td>\n",
       "      <td>NaN</td>\n",
       "      <td>Q</td>\n",
       "    </tr>\n",
       "  </tbody>\n",
       "</table>\n",
       "<p>891 rows × 12 columns</p>\n",
       "</div>"
      ],
      "text/plain": [
       "     PassengerId  Survived  Pclass  \\\n",
       "0              1         0       3   \n",
       "1              2         1       1   \n",
       "2              3         1       3   \n",
       "3              4         1       1   \n",
       "4              5         0       3   \n",
       "..           ...       ...     ...   \n",
       "886          887         0       2   \n",
       "887          888         1       1   \n",
       "888          889         0       3   \n",
       "889          890         1       1   \n",
       "890          891         0       3   \n",
       "\n",
       "                                                  Name     Sex   Age  SibSp  \\\n",
       "0                              Braund, Mr. Owen Harris    male  22.0      1   \n",
       "1    Cumings, Mrs. John Bradley (Florence Briggs Th...  female  38.0      1   \n",
       "2                               Heikkinen, Miss. Laina  female  26.0      0   \n",
       "3         Futrelle, Mrs. Jacques Heath (Lily May Peel)  female  35.0      1   \n",
       "4                             Allen, Mr. William Henry    male  35.0      0   \n",
       "..                                                 ...     ...   ...    ...   \n",
       "886                              Montvila, Rev. Juozas    male  27.0      0   \n",
       "887                       Graham, Miss. Margaret Edith  female  19.0      0   \n",
       "888           Johnston, Miss. Catherine Helen \"Carrie\"  female   NaN      1   \n",
       "889                              Behr, Mr. Karl Howell    male  26.0      0   \n",
       "890                                Dooley, Mr. Patrick    male  32.0      0   \n",
       "\n",
       "     Parch            Ticket     Fare Cabin Embarked  \n",
       "0        0         A/5 21171   7.2500   NaN        S  \n",
       "1        0          PC 17599  71.2833   C85        C  \n",
       "2        0  STON/O2. 3101282   7.9250   NaN        S  \n",
       "3        0            113803  53.1000  C123        S  \n",
       "4        0            373450   8.0500   NaN        S  \n",
       "..     ...               ...      ...   ...      ...  \n",
       "886      0            211536  13.0000   NaN        S  \n",
       "887      0            112053  30.0000   B42        S  \n",
       "888      2        W./C. 6607  23.4500   NaN        S  \n",
       "889      0            111369  30.0000  C148        C  \n",
       "890      0            370376   7.7500   NaN        Q  \n",
       "\n",
       "[891 rows x 12 columns]"
      ]
     },
     "execution_count": 5,
     "metadata": {},
     "output_type": "execute_result"
    }
   ],
   "source": [
    "df"
   ]
  },
  {
   "cell_type": "code",
   "execution_count": 6,
   "id": "c818cb09",
   "metadata": {
    "execution": {
     "iopub.execute_input": "2024-07-20T21:41:28.512746Z",
     "iopub.status.busy": "2024-07-20T21:41:28.512355Z",
     "iopub.status.idle": "2024-07-20T21:41:28.542177Z",
     "shell.execute_reply": "2024-07-20T21:41:28.541021Z"
    },
    "papermill": {
     "duration": 0.05192,
     "end_time": "2024-07-20T21:41:28.544394",
     "exception": false,
     "start_time": "2024-07-20T21:41:28.492474",
     "status": "completed"
    },
    "tags": []
   },
   "outputs": [
    {
     "data": {
      "text/html": [
       "<div>\n",
       "<style scoped>\n",
       "    .dataframe tbody tr th:only-of-type {\n",
       "        vertical-align: middle;\n",
       "    }\n",
       "\n",
       "    .dataframe tbody tr th {\n",
       "        vertical-align: top;\n",
       "    }\n",
       "\n",
       "    .dataframe thead th {\n",
       "        text-align: right;\n",
       "    }\n",
       "</style>\n",
       "<table border=\"1\" class=\"dataframe\">\n",
       "  <thead>\n",
       "    <tr style=\"text-align: right;\">\n",
       "      <th></th>\n",
       "      <th>PassengerId</th>\n",
       "      <th>Survived</th>\n",
       "      <th>Pclass</th>\n",
       "      <th>Age</th>\n",
       "      <th>SibSp</th>\n",
       "      <th>Parch</th>\n",
       "      <th>Fare</th>\n",
       "    </tr>\n",
       "  </thead>\n",
       "  <tbody>\n",
       "    <tr>\n",
       "      <th>count</th>\n",
       "      <td>891.000000</td>\n",
       "      <td>891.000000</td>\n",
       "      <td>891.000000</td>\n",
       "      <td>714.000000</td>\n",
       "      <td>891.000000</td>\n",
       "      <td>891.000000</td>\n",
       "      <td>891.000000</td>\n",
       "    </tr>\n",
       "    <tr>\n",
       "      <th>mean</th>\n",
       "      <td>446.000000</td>\n",
       "      <td>0.383838</td>\n",
       "      <td>2.308642</td>\n",
       "      <td>29.699118</td>\n",
       "      <td>0.523008</td>\n",
       "      <td>0.381594</td>\n",
       "      <td>32.204208</td>\n",
       "    </tr>\n",
       "    <tr>\n",
       "      <th>std</th>\n",
       "      <td>257.353842</td>\n",
       "      <td>0.486592</td>\n",
       "      <td>0.836071</td>\n",
       "      <td>14.526497</td>\n",
       "      <td>1.102743</td>\n",
       "      <td>0.806057</td>\n",
       "      <td>49.693429</td>\n",
       "    </tr>\n",
       "    <tr>\n",
       "      <th>min</th>\n",
       "      <td>1.000000</td>\n",
       "      <td>0.000000</td>\n",
       "      <td>1.000000</td>\n",
       "      <td>0.420000</td>\n",
       "      <td>0.000000</td>\n",
       "      <td>0.000000</td>\n",
       "      <td>0.000000</td>\n",
       "    </tr>\n",
       "    <tr>\n",
       "      <th>25%</th>\n",
       "      <td>223.500000</td>\n",
       "      <td>0.000000</td>\n",
       "      <td>2.000000</td>\n",
       "      <td>20.125000</td>\n",
       "      <td>0.000000</td>\n",
       "      <td>0.000000</td>\n",
       "      <td>7.910400</td>\n",
       "    </tr>\n",
       "    <tr>\n",
       "      <th>50%</th>\n",
       "      <td>446.000000</td>\n",
       "      <td>0.000000</td>\n",
       "      <td>3.000000</td>\n",
       "      <td>28.000000</td>\n",
       "      <td>0.000000</td>\n",
       "      <td>0.000000</td>\n",
       "      <td>14.454200</td>\n",
       "    </tr>\n",
       "    <tr>\n",
       "      <th>75%</th>\n",
       "      <td>668.500000</td>\n",
       "      <td>1.000000</td>\n",
       "      <td>3.000000</td>\n",
       "      <td>38.000000</td>\n",
       "      <td>1.000000</td>\n",
       "      <td>0.000000</td>\n",
       "      <td>31.000000</td>\n",
       "    </tr>\n",
       "    <tr>\n",
       "      <th>max</th>\n",
       "      <td>891.000000</td>\n",
       "      <td>1.000000</td>\n",
       "      <td>3.000000</td>\n",
       "      <td>80.000000</td>\n",
       "      <td>8.000000</td>\n",
       "      <td>6.000000</td>\n",
       "      <td>512.329200</td>\n",
       "    </tr>\n",
       "  </tbody>\n",
       "</table>\n",
       "</div>"
      ],
      "text/plain": [
       "       PassengerId    Survived      Pclass         Age       SibSp  \\\n",
       "count   891.000000  891.000000  891.000000  714.000000  891.000000   \n",
       "mean    446.000000    0.383838    2.308642   29.699118    0.523008   \n",
       "std     257.353842    0.486592    0.836071   14.526497    1.102743   \n",
       "min       1.000000    0.000000    1.000000    0.420000    0.000000   \n",
       "25%     223.500000    0.000000    2.000000   20.125000    0.000000   \n",
       "50%     446.000000    0.000000    3.000000   28.000000    0.000000   \n",
       "75%     668.500000    1.000000    3.000000   38.000000    1.000000   \n",
       "max     891.000000    1.000000    3.000000   80.000000    8.000000   \n",
       "\n",
       "            Parch        Fare  \n",
       "count  891.000000  891.000000  \n",
       "mean     0.381594   32.204208  \n",
       "std      0.806057   49.693429  \n",
       "min      0.000000    0.000000  \n",
       "25%      0.000000    7.910400  \n",
       "50%      0.000000   14.454200  \n",
       "75%      0.000000   31.000000  \n",
       "max      6.000000  512.329200  "
      ]
     },
     "execution_count": 6,
     "metadata": {},
     "output_type": "execute_result"
    }
   ],
   "source": [
    "df.describe()\n"
   ]
  },
  {
   "cell_type": "markdown",
   "id": "eb850b6e",
   "metadata": {
    "papermill": {
     "duration": 0.073203,
     "end_time": "2024-07-20T21:41:28.636497",
     "exception": false,
     "start_time": "2024-07-20T21:41:28.563294",
     "status": "completed"
    },
    "tags": []
   },
   "source": [
    " <p style=\"width: 800px; border-radius: 12px; border: 3px dashed #ffe81c; padding: 20px; background-color: #058BDD; text-align: center; box-shadow: 0px 6px 12px rgba(0, 0, 0, 0.3); color: #F0FF00; text-shadow: 1px 1px 2px rgba(0, 0, 0, 0.3); font-weight: bold; margin-bottom: 15px; font-size: 30px;\"> is null</p>"
   ]
  },
  {
   "cell_type": "code",
   "execution_count": 7,
   "id": "619bc6df",
   "metadata": {
    "execution": {
     "iopub.execute_input": "2024-07-20T21:41:28.675844Z",
     "iopub.status.busy": "2024-07-20T21:41:28.675446Z",
     "iopub.status.idle": "2024-07-20T21:41:28.684136Z",
     "shell.execute_reply": "2024-07-20T21:41:28.683163Z"
    },
    "papermill": {
     "duration": 0.030807,
     "end_time": "2024-07-20T21:41:28.686307",
     "exception": false,
     "start_time": "2024-07-20T21:41:28.655500",
     "status": "completed"
    },
    "tags": []
   },
   "outputs": [
    {
     "data": {
      "text/plain": [
       "PassengerId      0\n",
       "Survived         0\n",
       "Pclass           0\n",
       "Name             0\n",
       "Sex              0\n",
       "Age            177\n",
       "SibSp            0\n",
       "Parch            0\n",
       "Ticket           0\n",
       "Fare             0\n",
       "Cabin          687\n",
       "Embarked         2\n",
       "dtype: int64"
      ]
     },
     "execution_count": 7,
     "metadata": {},
     "output_type": "execute_result"
    }
   ],
   "source": [
    "df.isna().sum()"
   ]
  },
  {
   "cell_type": "code",
   "execution_count": 8,
   "id": "fa942fc0",
   "metadata": {
    "execution": {
     "iopub.execute_input": "2024-07-20T21:41:28.726219Z",
     "iopub.status.busy": "2024-07-20T21:41:28.725866Z",
     "iopub.status.idle": "2024-07-20T21:41:28.732980Z",
     "shell.execute_reply": "2024-07-20T21:41:28.731999Z"
    },
    "papermill": {
     "duration": 0.029798,
     "end_time": "2024-07-20T21:41:28.735218",
     "exception": false,
     "start_time": "2024-07-20T21:41:28.705420",
     "status": "completed"
    },
    "tags": []
   },
   "outputs": [],
   "source": [
    "df=df.drop(['Cabin'],axis=1)"
   ]
  },
  {
   "cell_type": "code",
   "execution_count": 9,
   "id": "9a316241",
   "metadata": {
    "execution": {
     "iopub.execute_input": "2024-07-20T21:41:28.775559Z",
     "iopub.status.busy": "2024-07-20T21:41:28.775163Z",
     "iopub.status.idle": "2024-07-20T21:41:28.781082Z",
     "shell.execute_reply": "2024-07-20T21:41:28.779948Z"
    },
    "papermill": {
     "duration": 0.029011,
     "end_time": "2024-07-20T21:41:28.783401",
     "exception": false,
     "start_time": "2024-07-20T21:41:28.754390",
     "status": "completed"
    },
    "tags": []
   },
   "outputs": [],
   "source": [
    "df=df.drop(['Name'],axis=1)"
   ]
  },
  {
   "cell_type": "markdown",
   "id": "b914e9bb",
   "metadata": {
    "papermill": {
     "duration": 0.019351,
     "end_time": "2024-07-20T21:41:28.822703",
     "exception": false,
     "start_time": "2024-07-20T21:41:28.803352",
     "status": "completed"
    },
    "tags": []
   },
   "source": [
    "# <p style=\"width: 800px; border-radius: 12px; border: 3px dashed #ffe81c; padding: 20px; background-color: #058BDD; text-align: center; box-shadow: 0px 6px 12px rgba(0, 0, 0, 0.3); color: #F0FF00; text-shadow: 1px 1px 2px rgba(0, 0, 0, 0.3); font-weight: bold; margin-bottom: 15px; font-size: 30px;\">methode the null value</p>"
   ]
  },
  {
   "cell_type": "code",
   "execution_count": 10,
   "id": "ea6cd0d7",
   "metadata": {
    "execution": {
     "iopub.execute_input": "2024-07-20T21:41:28.863449Z",
     "iopub.status.busy": "2024-07-20T21:41:28.862511Z",
     "iopub.status.idle": "2024-07-20T21:41:28.867308Z",
     "shell.execute_reply": "2024-07-20T21:41:28.866406Z"
    },
    "papermill": {
     "duration": 0.027487,
     "end_time": "2024-07-20T21:41:28.869644",
     "exception": false,
     "start_time": "2024-07-20T21:41:28.842157",
     "status": "completed"
    },
    "tags": []
   },
   "outputs": [],
   "source": [
    "def null():\n",
    "    s=(df.isna().sum())/len(df)\n",
    "    return s"
   ]
  },
  {
   "cell_type": "code",
   "execution_count": 11,
   "id": "634b1aa9",
   "metadata": {
    "execution": {
     "iopub.execute_input": "2024-07-20T21:41:28.909901Z",
     "iopub.status.busy": "2024-07-20T21:41:28.909499Z",
     "iopub.status.idle": "2024-07-20T21:41:29.221132Z",
     "shell.execute_reply": "2024-07-20T21:41:29.220106Z"
    },
    "papermill": {
     "duration": 0.3344,
     "end_time": "2024-07-20T21:41:29.223367",
     "exception": false,
     "start_time": "2024-07-20T21:41:28.888967",
     "status": "completed"
    },
    "tags": []
   },
   "outputs": [
    {
     "data": {
      "image/png": "[encoded data removed]",
      "text/plain": [
       "<Figure size 1600x900 with 1 Axes>"
      ]
     },
     "metadata": {},
     "output_type": "display_data"
    }
   ],
   "source": [
    "fig=plt.subplots(figsize=(16,9),dpi=100)\n",
    "n=null()\n",
    "plt.bar(n.index,n.values)\n",
    "plt.show()"
   ]
  },
  {
   "cell_type": "code",
   "execution_count": 12,
   "id": "819d4b75",
   "metadata": {
    "execution": {
     "iopub.execute_input": "2024-07-20T21:41:29.264689Z",
     "iopub.status.busy": "2024-07-20T21:41:29.264281Z",
     "iopub.status.idle": "2024-07-20T21:41:29.279380Z",
     "shell.execute_reply": "2024-07-20T21:41:29.278200Z"
    },
    "papermill": {
     "duration": 0.038752,
     "end_time": "2024-07-20T21:41:29.281960",
     "exception": false,
     "start_time": "2024-07-20T21:41:29.243208",
     "status": "completed"
    },
    "tags": []
   },
   "outputs": [
    {
     "data": {
      "text/html": [
       "<div>\n",
       "<style scoped>\n",
       "    .dataframe tbody tr th:only-of-type {\n",
       "        vertical-align: middle;\n",
       "    }\n",
       "\n",
       "    .dataframe tbody tr th {\n",
       "        vertical-align: top;\n",
       "    }\n",
       "\n",
       "    .dataframe thead th {\n",
       "        text-align: right;\n",
       "    }\n",
       "</style>\n",
       "<table border=\"1\" class=\"dataframe\">\n",
       "  <thead>\n",
       "    <tr style=\"text-align: right;\">\n",
       "      <th></th>\n",
       "      <th>PassengerId</th>\n",
       "      <th>Survived</th>\n",
       "      <th>Pclass</th>\n",
       "      <th>Sex</th>\n",
       "      <th>Age</th>\n",
       "      <th>SibSp</th>\n",
       "      <th>Parch</th>\n",
       "      <th>Ticket</th>\n",
       "      <th>Fare</th>\n",
       "      <th>Embarked</th>\n",
       "    </tr>\n",
       "  </thead>\n",
       "  <tbody>\n",
       "    <tr>\n",
       "      <th>61</th>\n",
       "      <td>62</td>\n",
       "      <td>1</td>\n",
       "      <td>1</td>\n",
       "      <td>female</td>\n",
       "      <td>38.0</td>\n",
       "      <td>0</td>\n",
       "      <td>0</td>\n",
       "      <td>113572</td>\n",
       "      <td>80.0</td>\n",
       "      <td>NaN</td>\n",
       "    </tr>\n",
       "    <tr>\n",
       "      <th>829</th>\n",
       "      <td>830</td>\n",
       "      <td>1</td>\n",
       "      <td>1</td>\n",
       "      <td>female</td>\n",
       "      <td>62.0</td>\n",
       "      <td>0</td>\n",
       "      <td>0</td>\n",
       "      <td>113572</td>\n",
       "      <td>80.0</td>\n",
       "      <td>NaN</td>\n",
       "    </tr>\n",
       "  </tbody>\n",
       "</table>\n",
       "</div>"
      ],
      "text/plain": [
       "     PassengerId  Survived  Pclass     Sex   Age  SibSp  Parch  Ticket  Fare  \\\n",
       "61            62         1       1  female  38.0      0      0  113572  80.0   \n",
       "829          830         1       1  female  62.0      0      0  113572  80.0   \n",
       "\n",
       "    Embarked  \n",
       "61       NaN  \n",
       "829      NaN  "
      ]
     },
     "execution_count": 12,
     "metadata": {},
     "output_type": "execute_result"
    }
   ],
   "source": [
    "df[df['Embarked'].isna()]"
   ]
  },
  {
   "cell_type": "code",
   "execution_count": 13,
   "id": "5c0cb13e",
   "metadata": {
    "execution": {
     "iopub.execute_input": "2024-07-20T21:41:29.324438Z",
     "iopub.status.busy": "2024-07-20T21:41:29.323417Z",
     "iopub.status.idle": "2024-07-20T21:41:29.330786Z",
     "shell.execute_reply": "2024-07-20T21:41:29.329710Z"
    },
    "papermill": {
     "duration": 0.030707,
     "end_time": "2024-07-20T21:41:29.332946",
     "exception": false,
     "start_time": "2024-07-20T21:41:29.302239",
     "status": "completed"
    },
    "tags": []
   },
   "outputs": [],
   "source": [
    "df['Embarked']=df['Embarked'].dropna()"
   ]
  },
  {
   "cell_type": "code",
   "execution_count": 14,
   "id": "c4991489",
   "metadata": {
    "execution": {
     "iopub.execute_input": "2024-07-20T21:41:29.375441Z",
     "iopub.status.busy": "2024-07-20T21:41:29.374842Z",
     "iopub.status.idle": "2024-07-20T21:41:29.382016Z",
     "shell.execute_reply": "2024-07-20T21:41:29.381176Z"
    },
    "papermill": {
     "duration": 0.03126,
     "end_time": "2024-07-20T21:41:29.384177",
     "exception": false,
     "start_time": "2024-07-20T21:41:29.352917",
     "status": "completed"
    },
    "tags": []
   },
   "outputs": [],
   "source": [
    "df=df.fillna(df['Age'].median())"
   ]
  },
  {
   "cell_type": "code",
   "execution_count": 15,
   "id": "29168b4f",
   "metadata": {
    "execution": {
     "iopub.execute_input": "2024-07-20T21:41:29.426200Z",
     "iopub.status.busy": "2024-07-20T21:41:29.425824Z",
     "iopub.status.idle": "2024-07-20T21:41:29.698047Z",
     "shell.execute_reply": "2024-07-20T21:41:29.696972Z"
    },
    "papermill": {
     "duration": 0.295431,
     "end_time": "2024-07-20T21:41:29.700246",
     "exception": false,
     "start_time": "2024-07-20T21:41:29.404815",
     "status": "completed"
    },
    "tags": []
   },
   "outputs": [
    {
     "data": {
      "image/png": "[encoded data removed]",
      "text/plain": [
       "<Figure size 1600x900 with 1 Axes>"
      ]
     },
     "metadata": {},
     "output_type": "display_data"
    }
   ],
   "source": [
    "fig=plt.subplots(figsize=(16,9),dpi=100)\n",
    "df=df.fillna(df['Age'].median())\n",
    "n=null()\n",
    "plt.bar(n.index,n.values)\n",
    "plt.show()\n"
   ]
  },
  {
   "cell_type": "markdown",
   "id": "7ae06733",
   "metadata": {
    "papermill": {
     "duration": 0.019819,
     "end_time": "2024-07-20T21:41:29.740420",
     "exception": false,
     "start_time": "2024-07-20T21:41:29.720601",
     "status": "completed"
    },
    "tags": []
   },
   "source": [
    " #  <p style=\"width: 800px; border-radius: 12px; border: 3px dashed #ffe81c; padding: 20px; background-color: #058BDD; text-align: center; box-shadow: 0px 6px 12px rgba(0, 0, 0, 0.3); color: #F0FF00; text-shadow: 1px 1px 2px rgba(0, 0, 0, 0.3); font-weight: bold; margin-bottom: 15px; font-size: 30px;\">Encoding</p>"
   ]
  },
  {
   "cell_type": "code",
   "execution_count": 16,
   "id": "d29d34c7",
   "metadata": {
    "execution": {
     "iopub.execute_input": "2024-07-20T21:41:29.782707Z",
     "iopub.status.busy": "2024-07-20T21:41:29.782304Z",
     "iopub.status.idle": "2024-07-20T21:41:29.788574Z",
     "shell.execute_reply": "2024-07-20T21:41:29.787719Z"
    },
    "papermill": {
     "duration": 0.030249,
     "end_time": "2024-07-20T21:41:29.791031",
     "exception": false,
     "start_time": "2024-07-20T21:41:29.760782",
     "status": "completed"
    },
    "tags": []
   },
   "outputs": [],
   "source": [
    "obj=df.select_dtypes(include='object')\n",
    "num=df.select_dtypes(exclude='object')"
   ]
  },
  {
   "cell_type": "code",
   "execution_count": 17,
   "id": "0ac783a4",
   "metadata": {
    "execution": {
     "iopub.execute_input": "2024-07-20T21:41:29.834392Z",
     "iopub.status.busy": "2024-07-20T21:41:29.834001Z",
     "iopub.status.idle": "2024-07-20T21:41:29.845850Z",
     "shell.execute_reply": "2024-07-20T21:41:29.844900Z"
    },
    "papermill": {
     "duration": 0.035676,
     "end_time": "2024-07-20T21:41:29.847981",
     "exception": false,
     "start_time": "2024-07-20T21:41:29.812305",
     "status": "completed"
    },
    "tags": []
   },
   "outputs": [
    {
     "data": {
      "text/html": [
       "<div>\n",
       "<style scoped>\n",
       "    .dataframe tbody tr th:only-of-type {\n",
       "        vertical-align: middle;\n",
       "    }\n",
       "\n",
       "    .dataframe tbody tr th {\n",
       "        vertical-align: top;\n",
       "    }\n",
       "\n",
       "    .dataframe thead th {\n",
       "        text-align: right;\n",
       "    }\n",
       "</style>\n",
       "<table border=\"1\" class=\"dataframe\">\n",
       "  <thead>\n",
       "    <tr style=\"text-align: right;\">\n",
       "      <th></th>\n",
       "      <th>Sex</th>\n",
       "      <th>Ticket</th>\n",
       "      <th>Embarked</th>\n",
       "    </tr>\n",
       "  </thead>\n",
       "  <tbody>\n",
       "    <tr>\n",
       "      <th>0</th>\n",
       "      <td>male</td>\n",
       "      <td>A/5 21171</td>\n",
       "      <td>S</td>\n",
       "    </tr>\n",
       "    <tr>\n",
       "      <th>1</th>\n",
       "      <td>female</td>\n",
       "      <td>PC 17599</td>\n",
       "      <td>C</td>\n",
       "    </tr>\n",
       "    <tr>\n",
       "      <th>2</th>\n",
       "      <td>female</td>\n",
       "      <td>STON/O2. 3101282</td>\n",
       "      <td>S</td>\n",
       "    </tr>\n",
       "    <tr>\n",
       "      <th>3</th>\n",
       "      <td>female</td>\n",
       "      <td>113803</td>\n",
       "      <td>S</td>\n",
       "    </tr>\n",
       "    <tr>\n",
       "      <th>4</th>\n",
       "      <td>male</td>\n",
       "      <td>373450</td>\n",
       "      <td>S</td>\n",
       "    </tr>\n",
       "    <tr>\n",
       "      <th>...</th>\n",
       "      <td>...</td>\n",
       "      <td>...</td>\n",
       "      <td>...</td>\n",
       "    </tr>\n",
       "    <tr>\n",
       "      <th>886</th>\n",
       "      <td>male</td>\n",
       "      <td>211536</td>\n",
       "      <td>S</td>\n",
       "    </tr>\n",
       "    <tr>\n",
       "      <th>887</th>\n",
       "      <td>female</td>\n",
       "      <td>112053</td>\n",
       "      <td>S</td>\n",
       "    </tr>\n",
       "    <tr>\n",
       "      <th>888</th>\n",
       "      <td>female</td>\n",
       "      <td>W./C. 6607</td>\n",
       "      <td>S</td>\n",
       "    </tr>\n",
       "    <tr>\n",
       "      <th>889</th>\n",
       "      <td>male</td>\n",
       "      <td>111369</td>\n",
       "      <td>C</td>\n",
       "    </tr>\n",
       "    <tr>\n",
       "      <th>890</th>\n",
       "      <td>male</td>\n",
       "      <td>370376</td>\n",
       "      <td>Q</td>\n",
       "    </tr>\n",
       "  </tbody>\n",
       "</table>\n",
       "<p>891 rows × 3 columns</p>\n",
       "</div>"
      ],
      "text/plain": [
       "        Sex            Ticket Embarked\n",
       "0      male         A/5 21171        S\n",
       "1    female          PC 17599        C\n",
       "2    female  STON/O2. 3101282        S\n",
       "3    female            113803        S\n",
       "4      male            373450        S\n",
       "..      ...               ...      ...\n",
       "886    male            211536        S\n",
       "887  female            112053        S\n",
       "888  female        W./C. 6607        S\n",
       "889    male            111369        C\n",
       "890    male            370376        Q\n",
       "\n",
       "[891 rows x 3 columns]"
      ]
     },
     "execution_count": 17,
     "metadata": {},
     "output_type": "execute_result"
    }
   ],
   "source": [
    "obj"
   ]
  },
  {
   "cell_type": "code",
   "execution_count": 18,
   "id": "a5db239a",
   "metadata": {
    "execution": {
     "iopub.execute_input": "2024-07-20T21:41:29.891255Z",
     "iopub.status.busy": "2024-07-20T21:41:29.890503Z",
     "iopub.status.idle": "2024-07-20T21:41:29.897797Z",
     "shell.execute_reply": "2024-07-20T21:41:29.896892Z"
    },
    "papermill": {
     "duration": 0.031347,
     "end_time": "2024-07-20T21:41:29.899984",
     "exception": false,
     "start_time": "2024-07-20T21:41:29.868637",
     "status": "completed"
    },
    "tags": []
   },
   "outputs": [],
   "source": [
    "obj['Sex']=pd.get_dummies(obj['Sex'],drop_first=True)"
   ]
  },
  {
   "cell_type": "code",
   "execution_count": 19,
   "id": "ab769dd6",
   "metadata": {
    "execution": {
     "iopub.execute_input": "2024-07-20T21:41:29.944183Z",
     "iopub.status.busy": "2024-07-20T21:41:29.943800Z",
     "iopub.status.idle": "2024-07-20T21:41:29.955942Z",
     "shell.execute_reply": "2024-07-20T21:41:29.954970Z"
    },
    "papermill": {
     "duration": 0.036678,
     "end_time": "2024-07-20T21:41:29.958109",
     "exception": false,
     "start_time": "2024-07-20T21:41:29.921431",
     "status": "completed"
    },
    "tags": []
   },
   "outputs": [
    {
     "data": {
      "text/html": [
       "<div>\n",
       "<style scoped>\n",
       "    .dataframe tbody tr th:only-of-type {\n",
       "        vertical-align: middle;\n",
       "    }\n",
       "\n",
       "    .dataframe tbody tr th {\n",
       "        vertical-align: top;\n",
       "    }\n",
       "\n",
       "    .dataframe thead th {\n",
       "        text-align: right;\n",
       "    }\n",
       "</style>\n",
       "<table border=\"1\" class=\"dataframe\">\n",
       "  <thead>\n",
       "    <tr style=\"text-align: right;\">\n",
       "      <th></th>\n",
       "      <th>Sex</th>\n",
       "      <th>Ticket</th>\n",
       "      <th>Embarked</th>\n",
       "    </tr>\n",
       "  </thead>\n",
       "  <tbody>\n",
       "    <tr>\n",
       "      <th>0</th>\n",
       "      <td>True</td>\n",
       "      <td>A/5 21171</td>\n",
       "      <td>S</td>\n",
       "    </tr>\n",
       "    <tr>\n",
       "      <th>1</th>\n",
       "      <td>False</td>\n",
       "      <td>PC 17599</td>\n",
       "      <td>C</td>\n",
       "    </tr>\n",
       "    <tr>\n",
       "      <th>2</th>\n",
       "      <td>False</td>\n",
       "      <td>STON/O2. 3101282</td>\n",
       "      <td>S</td>\n",
       "    </tr>\n",
       "    <tr>\n",
       "      <th>3</th>\n",
       "      <td>False</td>\n",
       "      <td>113803</td>\n",
       "      <td>S</td>\n",
       "    </tr>\n",
       "    <tr>\n",
       "      <th>4</th>\n",
       "      <td>True</td>\n",
       "      <td>373450</td>\n",
       "      <td>S</td>\n",
       "    </tr>\n",
       "    <tr>\n",
       "      <th>...</th>\n",
       "      <td>...</td>\n",
       "      <td>...</td>\n",
       "      <td>...</td>\n",
       "    </tr>\n",
       "    <tr>\n",
       "      <th>886</th>\n",
       "      <td>True</td>\n",
       "      <td>211536</td>\n",
       "      <td>S</td>\n",
       "    </tr>\n",
       "    <tr>\n",
       "      <th>887</th>\n",
       "      <td>False</td>\n",
       "      <td>112053</td>\n",
       "      <td>S</td>\n",
       "    </tr>\n",
       "    <tr>\n",
       "      <th>888</th>\n",
       "      <td>False</td>\n",
       "      <td>W./C. 6607</td>\n",
       "      <td>S</td>\n",
       "    </tr>\n",
       "    <tr>\n",
       "      <th>889</th>\n",
       "      <td>True</td>\n",
       "      <td>111369</td>\n",
       "      <td>C</td>\n",
       "    </tr>\n",
       "    <tr>\n",
       "      <th>890</th>\n",
       "      <td>True</td>\n",
       "      <td>370376</td>\n",
       "      <td>Q</td>\n",
       "    </tr>\n",
       "  </tbody>\n",
       "</table>\n",
       "<p>891 rows × 3 columns</p>\n",
       "</div>"
      ],
      "text/plain": [
       "       Sex            Ticket Embarked\n",
       "0     True         A/5 21171        S\n",
       "1    False          PC 17599        C\n",
       "2    False  STON/O2. 3101282        S\n",
       "3    False            113803        S\n",
       "4     True            373450        S\n",
       "..     ...               ...      ...\n",
       "886   True            211536        S\n",
       "887  False            112053        S\n",
       "888  False        W./C. 6607        S\n",
       "889   True            111369        C\n",
       "890   True            370376        Q\n",
       "\n",
       "[891 rows x 3 columns]"
      ]
     },
     "execution_count": 19,
     "metadata": {},
     "output_type": "execute_result"
    }
   ],
   "source": [
    "obj"
   ]
  },
  {
   "cell_type": "code",
   "execution_count": 20,
   "id": "1f2f6f78",
   "metadata": {
    "execution": {
     "iopub.execute_input": "2024-07-20T21:41:30.001119Z",
     "iopub.status.busy": "2024-07-20T21:41:30.000750Z",
     "iopub.status.idle": "2024-07-20T21:41:30.007047Z",
     "shell.execute_reply": "2024-07-20T21:41:30.005943Z"
    },
    "papermill": {
     "duration": 0.030442,
     "end_time": "2024-07-20T21:41:30.009377",
     "exception": false,
     "start_time": "2024-07-20T21:41:29.978935",
     "status": "completed"
    },
    "tags": []
   },
   "outputs": [],
   "source": [
    "obj['Sex']=obj['Sex'].map({True:1,False:0})"
   ]
  },
  {
   "cell_type": "code",
   "execution_count": 21,
   "id": "dc60310b",
   "metadata": {
    "execution": {
     "iopub.execute_input": "2024-07-20T21:41:30.052471Z",
     "iopub.status.busy": "2024-07-20T21:41:30.052108Z",
     "iopub.status.idle": "2024-07-20T21:41:30.058493Z",
     "shell.execute_reply": "2024-07-20T21:41:30.057479Z"
    },
    "papermill": {
     "duration": 0.030378,
     "end_time": "2024-07-20T21:41:30.060565",
     "exception": false,
     "start_time": "2024-07-20T21:41:30.030187",
     "status": "completed"
    },
    "tags": []
   },
   "outputs": [],
   "source": [
    "obj['Embarked']=str(obj['Embarked'])"
   ]
  },
  {
   "cell_type": "code",
   "execution_count": 22,
   "id": "a5812469",
   "metadata": {
    "execution": {
     "iopub.execute_input": "2024-07-20T21:41:30.103905Z",
     "iopub.status.busy": "2024-07-20T21:41:30.103505Z",
     "iopub.status.idle": "2024-07-20T21:41:30.108543Z",
     "shell.execute_reply": "2024-07-20T21:41:30.107423Z"
    },
    "papermill": {
     "duration": 0.029385,
     "end_time": "2024-07-20T21:41:30.110664",
     "exception": false,
     "start_time": "2024-07-20T21:41:30.081279",
     "status": "completed"
    },
    "tags": []
   },
   "outputs": [],
   "source": [
    "\n",
    "map_Embarked={\n",
    "    'S':0,\n",
    "    'C':1,\n",
    "    'Q':2,\n",
    "    \n",
    "}"
   ]
  },
  {
   "cell_type": "code",
   "execution_count": 23,
   "id": "1058cbf1",
   "metadata": {
    "execution": {
     "iopub.execute_input": "2024-07-20T21:41:30.153567Z",
     "iopub.status.busy": "2024-07-20T21:41:30.153157Z",
     "iopub.status.idle": "2024-07-20T21:41:30.159564Z",
     "shell.execute_reply": "2024-07-20T21:41:30.158377Z"
    },
    "papermill": {
     "duration": 0.030626,
     "end_time": "2024-07-20T21:41:30.161900",
     "exception": false,
     "start_time": "2024-07-20T21:41:30.131274",
     "status": "completed"
    },
    "tags": []
   },
   "outputs": [],
   "source": [
    "obj['Embarked']=df['Embarked'].map(map_Embarked)"
   ]
  },
  {
   "cell_type": "code",
   "execution_count": 24,
   "id": "bbe11c41",
   "metadata": {
    "execution": {
     "iopub.execute_input": "2024-07-20T21:41:30.205692Z",
     "iopub.status.busy": "2024-07-20T21:41:30.205273Z",
     "iopub.status.idle": "2024-07-20T21:41:30.219891Z",
     "shell.execute_reply": "2024-07-20T21:41:30.218890Z"
    },
    "papermill": {
     "duration": 0.038784,
     "end_time": "2024-07-20T21:41:30.222114",
     "exception": false,
     "start_time": "2024-07-20T21:41:30.183330",
     "status": "completed"
    },
    "tags": []
   },
   "outputs": [
    {
     "data": {
      "text/html": [
       "<div>\n",
       "<style scoped>\n",
       "    .dataframe tbody tr th:only-of-type {\n",
       "        vertical-align: middle;\n",
       "    }\n",
       "\n",
       "    .dataframe tbody tr th {\n",
       "        vertical-align: top;\n",
       "    }\n",
       "\n",
       "    .dataframe thead th {\n",
       "        text-align: right;\n",
       "    }\n",
       "</style>\n",
       "<table border=\"1\" class=\"dataframe\">\n",
       "  <thead>\n",
       "    <tr style=\"text-align: right;\">\n",
       "      <th></th>\n",
       "      <th>Sex</th>\n",
       "      <th>Ticket</th>\n",
       "      <th>Embarked</th>\n",
       "    </tr>\n",
       "  </thead>\n",
       "  <tbody>\n",
       "    <tr>\n",
       "      <th>0</th>\n",
       "      <td>1</td>\n",
       "      <td>523</td>\n",
       "      <td>0.0</td>\n",
       "    </tr>\n",
       "    <tr>\n",
       "      <th>1</th>\n",
       "      <td>0</td>\n",
       "      <td>596</td>\n",
       "      <td>1.0</td>\n",
       "    </tr>\n",
       "    <tr>\n",
       "      <th>2</th>\n",
       "      <td>0</td>\n",
       "      <td>669</td>\n",
       "      <td>0.0</td>\n",
       "    </tr>\n",
       "    <tr>\n",
       "      <th>3</th>\n",
       "      <td>0</td>\n",
       "      <td>49</td>\n",
       "      <td>0.0</td>\n",
       "    </tr>\n",
       "    <tr>\n",
       "      <th>4</th>\n",
       "      <td>1</td>\n",
       "      <td>472</td>\n",
       "      <td>0.0</td>\n",
       "    </tr>\n",
       "    <tr>\n",
       "      <th>...</th>\n",
       "      <td>...</td>\n",
       "      <td>...</td>\n",
       "      <td>...</td>\n",
       "    </tr>\n",
       "    <tr>\n",
       "      <th>886</th>\n",
       "      <td>1</td>\n",
       "      <td>101</td>\n",
       "      <td>0.0</td>\n",
       "    </tr>\n",
       "    <tr>\n",
       "      <th>887</th>\n",
       "      <td>0</td>\n",
       "      <td>14</td>\n",
       "      <td>0.0</td>\n",
       "    </tr>\n",
       "    <tr>\n",
       "      <th>888</th>\n",
       "      <td>0</td>\n",
       "      <td>675</td>\n",
       "      <td>0.0</td>\n",
       "    </tr>\n",
       "    <tr>\n",
       "      <th>889</th>\n",
       "      <td>1</td>\n",
       "      <td>8</td>\n",
       "      <td>1.0</td>\n",
       "    </tr>\n",
       "    <tr>\n",
       "      <th>890</th>\n",
       "      <td>1</td>\n",
       "      <td>466</td>\n",
       "      <td>2.0</td>\n",
       "    </tr>\n",
       "  </tbody>\n",
       "</table>\n",
       "<p>891 rows × 3 columns</p>\n",
       "</div>"
      ],
      "text/plain": [
       "     Sex  Ticket  Embarked\n",
       "0      1     523       0.0\n",
       "1      0     596       1.0\n",
       "2      0     669       0.0\n",
       "3      0      49       0.0\n",
       "4      1     472       0.0\n",
       "..   ...     ...       ...\n",
       "886    1     101       0.0\n",
       "887    0      14       0.0\n",
       "888    0     675       0.0\n",
       "889    1       8       1.0\n",
       "890    1     466       2.0\n",
       "\n",
       "[891 rows x 3 columns]"
      ]
     },
     "execution_count": 24,
     "metadata": {},
     "output_type": "execute_result"
    }
   ],
   "source": [
    "f=LabelEncoder()\n",
    "f.fit(obj['Ticket'])\n",
    "obj['Ticket']=f.transform(obj['Ticket'])\n",
    "obj"
   ]
  },
  {
   "cell_type": "code",
   "execution_count": 25,
   "id": "0a38cc06",
   "metadata": {
    "execution": {
     "iopub.execute_input": "2024-07-20T21:41:30.266708Z",
     "iopub.status.busy": "2024-07-20T21:41:30.265719Z",
     "iopub.status.idle": "2024-07-20T21:41:30.271728Z",
     "shell.execute_reply": "2024-07-20T21:41:30.270709Z"
    },
    "papermill": {
     "duration": 0.030171,
     "end_time": "2024-07-20T21:41:30.273830",
     "exception": false,
     "start_time": "2024-07-20T21:41:30.243659",
     "status": "completed"
    },
    "tags": []
   },
   "outputs": [],
   "source": [
    "df=pd.concat([num,obj],axis=1)"
   ]
  },
  {
   "cell_type": "markdown",
   "id": "0f1b9186",
   "metadata": {
    "papermill": {
     "duration": 0.020735,
     "end_time": "2024-07-20T21:41:30.316160",
     "exception": false,
     "start_time": "2024-07-20T21:41:30.295425",
     "status": "completed"
    },
    "tags": []
   },
   "source": [
    "#   <p style=\"width: 800px; border-radius: 12px; border: 3px dashed #ffe81c; padding: 20px; background-color: #058BDD; text-align: center; box-shadow: 0px 6px 12px rgba(0, 0, 0, 0.3); color: #F0FF00; text-shadow: 1px 1px 2px rgba(0, 0, 0, 0.3); font-weight: bold; margin-bottom: 15px; font-size: 30px;\">balance data</p>"
   ]
  },
  {
   "cell_type": "code",
   "execution_count": 26,
   "id": "cb79d842",
   "metadata": {
    "execution": {
     "iopub.execute_input": "2024-07-20T21:41:30.360304Z",
     "iopub.status.busy": "2024-07-20T21:41:30.359391Z",
     "iopub.status.idle": "2024-07-20T21:41:30.528374Z",
     "shell.execute_reply": "2024-07-20T21:41:30.527205Z"
    },
    "papermill": {
     "duration": 0.193643,
     "end_time": "2024-07-20T21:41:30.530739",
     "exception": false,
     "start_time": "2024-07-20T21:41:30.337096",
     "status": "completed"
    },
    "tags": []
   },
   "outputs": [
    {
     "data": {
      "image/png": "[encoded data removed]",
      "text/plain": [
       "<Figure size 640x480 with 1 Axes>"
      ]
     },
     "metadata": {},
     "output_type": "display_data"
    }
   ],
   "source": [
    "sns.countplot(data=df,x='Survived')\n",
    "plt.show()"
   ]
  },
  {
   "cell_type": "markdown",
   "id": "56a5bbc7",
   "metadata": {
    "papermill": {
     "duration": 0.021764,
     "end_time": "2024-07-20T21:41:30.574647",
     "exception": false,
     "start_time": "2024-07-20T21:41:30.552883",
     "status": "completed"
    },
    "tags": []
   },
   "source": [
    "#   <p style=\"width: 800px; border-radius: 12px; border: 3px dashed #ffe81c; padding: 20px; background-color: #058BDD; text-align: center; box-shadow: 0px 6px 12px rgba(0, 0, 0, 0.3); color: #F0FF00; text-shadow: 1px 1px 2px rgba(0, 0, 0, 0.3); font-weight: bold; margin-bottom: 15px; font-size: 30px;\">check outlier</p>\n"
   ]
  },
  {
   "cell_type": "code",
   "execution_count": 27,
   "id": "97cc04fb",
   "metadata": {
    "execution": {
     "iopub.execute_input": "2024-07-20T21:41:30.618345Z",
     "iopub.status.busy": "2024-07-20T21:41:30.617954Z",
     "iopub.status.idle": "2024-07-20T21:41:32.252789Z",
     "shell.execute_reply": "2024-07-20T21:41:32.251768Z"
    },
    "papermill": {
     "duration": 1.659412,
     "end_time": "2024-07-20T21:41:32.255055",
     "exception": false,
     "start_time": "2024-07-20T21:41:30.595643",
     "status": "completed"
    },
    "tags": []
   },
   "outputs": [
    {
     "data": {
      "image/png": "[encoded data removed]",
      "text/plain": [
       "<Figure size 640x480 with 1 Axes>"
      ]
     },
     "metadata": {},
     "output_type": "display_data"
    },
    {
     "data": {
      "image/png": "[encoded data removed]",
      "text/plain": [
       "<Figure size 640x480 with 1 Axes>"
      ]
     },
     "metadata": {},
     "output_type": "display_data"
    },
    {
     "data": {
      "image/png": "[encoded data removed]",
      "text/plain": [
       "<Figure size 640x480 with 1 Axes>"
      ]
     },
     "metadata": {},
     "output_type": "display_data"
    },
    {
     "data": {
      "image/png": "[encoded data removed]",
      "text/plain": [
       "<Figure size 640x480 with 1 Axes>"
      ]
     },
     "metadata": {},
     "output_type": "display_data"
    },
    {
     "data": {
      "image/png": "[encoded data removed]",
      "text/plain": [
       "<Figure size 640x480 with 1 Axes>"
      ]
     },
     "metadata": {},
     "output_type": "display_data"
    },
    {
     "data": {
      "image/png": "[encoded data removed]",
      "text/plain": [
       "<Figure size 640x480 with 1 Axes>"
      ]
     },
     "metadata": {},
     "output_type": "display_data"
    },
    {
     "data": {
      "image/png": "[encoded data removed]",
      "text/plain": [
       "<Figure size 640x480 with 1 Axes>"
      ]
     },
     "metadata": {},
     "output_type": "display_data"
    },
    {
     "data": {
      "image/png": "[encoded data removed]",
      "text/plain": [
       "<Figure size 640x480 with 1 Axes>"
      ]
     },
     "metadata": {},
     "output_type": "display_data"
    },
    {
     "data": {
      "image/png": "[encoded data removed]",
      "text/plain": [
       "<Figure size 640x480 with 1 Axes>"
      ]
     },
     "metadata": {},
     "output_type": "display_data"
    },
    {
     "data": {
      "image/png": "[encoded data removed]",
      "text/plain": [
       "<Figure size 640x480 with 1 Axes>"
      ]
     },
     "metadata": {},
     "output_type": "display_data"
    }
   ],
   "source": [
    "\n",
    "col=df.columns\n",
    "\n",
    "for i in col:\n",
    "    sns.boxplot(data=df,x=i)\n",
    "    plt.show()"
   ]
  },
  {
   "cell_type": "code",
   "execution_count": 28,
   "id": "4947c046",
   "metadata": {
    "execution": {
     "iopub.execute_input": "2024-07-20T21:41:32.304250Z",
     "iopub.status.busy": "2024-07-20T21:41:32.303635Z",
     "iopub.status.idle": "2024-07-20T21:41:32.309656Z",
     "shell.execute_reply": "2024-07-20T21:41:32.308643Z"
    },
    "papermill": {
     "duration": 0.033203,
     "end_time": "2024-07-20T21:41:32.311885",
     "exception": false,
     "start_time": "2024-07-20T21:41:32.278682",
     "status": "completed"
    },
    "tags": []
   },
   "outputs": [],
   "source": [
    "df=df.drop('Parch',axis=1)"
   ]
  },
  {
   "cell_type": "code",
   "execution_count": 29,
   "id": "f637798e",
   "metadata": {
    "execution": {
     "iopub.execute_input": "2024-07-20T21:41:32.367938Z",
     "iopub.status.busy": "2024-07-20T21:41:32.367472Z",
     "iopub.status.idle": "2024-07-20T21:41:32.985870Z",
     "shell.execute_reply": "2024-07-20T21:41:32.984806Z"
    },
    "papermill": {
     "duration": 0.653139,
     "end_time": "2024-07-20T21:41:32.988458",
     "exception": false,
     "start_time": "2024-07-20T21:41:32.335319",
     "status": "completed"
    },
    "tags": []
   },
   "outputs": [
    {
     "data": {
      "image/png": "[encoded data removed]",
      "text/plain": [
       "<Figure size 640x480 with 2 Axes>"
      ]
     },
     "metadata": {},
     "output_type": "display_data"
    }
   ],
   "source": [
    "sns.heatmap(df.corr(),annot=True)\n",
    "plt.show()\n"
   ]
  },
  {
   "cell_type": "code",
   "execution_count": 30,
   "id": "74e8f363",
   "metadata": {
    "execution": {
     "iopub.execute_input": "2024-07-20T21:41:33.040714Z",
     "iopub.status.busy": "2024-07-20T21:41:33.040304Z",
     "iopub.status.idle": "2024-07-20T21:41:33.289574Z",
     "shell.execute_reply": "2024-07-20T21:41:33.288470Z"
    },
    "papermill": {
     "duration": 0.277314,
     "end_time": "2024-07-20T21:41:33.291777",
     "exception": false,
     "start_time": "2024-07-20T21:41:33.014463",
     "status": "completed"
    },
    "tags": []
   },
   "outputs": [
    {
     "data": {
      "image/png": "[encoded data removed]",
      "text/plain": [
       "<Figure size 1600x900 with 1 Axes>"
      ]
     },
     "metadata": {},
     "output_type": "display_data"
    }
   ],
   "source": [
    "fig=plt.subplots(figsize=(16,9),dpi=100)\n",
    "n=null()\n",
    "plt.bar(n.index,n.values)\n",
    "plt.show()"
   ]
  },
  {
   "cell_type": "code",
   "execution_count": 31,
   "id": "54a28d48",
   "metadata": {
    "execution": {
     "iopub.execute_input": "2024-07-20T21:41:33.343781Z",
     "iopub.status.busy": "2024-07-20T21:41:33.343377Z",
     "iopub.status.idle": "2024-07-20T21:41:33.349485Z",
     "shell.execute_reply": "2024-07-20T21:41:33.348505Z"
    },
    "papermill": {
     "duration": 0.034777,
     "end_time": "2024-07-20T21:41:33.351594",
     "exception": false,
     "start_time": "2024-07-20T21:41:33.316817",
     "status": "completed"
    },
    "tags": []
   },
   "outputs": [],
   "source": [
    "df=df[df['Embarked'].notnull()]"
   ]
  },
  {
   "cell_type": "code",
   "execution_count": 32,
   "id": "0fdb9b31",
   "metadata": {
    "execution": {
     "iopub.execute_input": "2024-07-20T21:41:33.406098Z",
     "iopub.status.busy": "2024-07-20T21:41:33.405702Z",
     "iopub.status.idle": "2024-07-20T21:41:33.569330Z",
     "shell.execute_reply": "2024-07-20T21:41:33.568317Z"
    },
    "papermill": {
     "duration": 0.195101,
     "end_time": "2024-07-20T21:41:33.572111",
     "exception": false,
     "start_time": "2024-07-20T21:41:33.377010",
     "status": "completed"
    },
    "tags": []
   },
   "outputs": [
    {
     "data": {
      "image/png": "[encoded data removed]",
      "text/plain": [
       "<Figure size 640x480 with 1 Axes>"
      ]
     },
     "metadata": {},
     "output_type": "display_data"
    }
   ],
   "source": [
    "n=null()\n",
    "plt.bar(n.index,n.values)\n",
    "plt.show()"
   ]
  },
  {
   "cell_type": "markdown",
   "id": "9e265489",
   "metadata": {
    "papermill": {
     "duration": 0.025324,
     "end_time": "2024-07-20T21:41:33.623761",
     "exception": false,
     "start_time": "2024-07-20T21:41:33.598437",
     "status": "completed"
    },
    "tags": []
   },
   "source": [
    "#   <p style=\"width: 800px; border-radius: 12px; border: 3px dashed #ffe81c; padding: 20px; background-color: #058BDD; text-align: center; box-shadow: 0px 6px 12px rgba(0, 0, 0, 0.3); color: #F0FF00; text-shadow: 1px 1px 2px rgba(0, 0, 0, 0.3); font-weight: bold; margin-bottom: 15px; font-size: 30px;\">blind model machine learning</p>\n"
   ]
  },
  {
   "cell_type": "code",
   "execution_count": 33,
   "id": "a96f027f",
   "metadata": {
    "execution": {
     "iopub.execute_input": "2024-07-20T21:41:33.676979Z",
     "iopub.status.busy": "2024-07-20T21:41:33.676604Z",
     "iopub.status.idle": "2024-07-20T21:41:33.682894Z",
     "shell.execute_reply": "2024-07-20T21:41:33.681825Z"
    },
    "papermill": {
     "duration": 0.035553,
     "end_time": "2024-07-20T21:41:33.685024",
     "exception": false,
     "start_time": "2024-07-20T21:41:33.649471",
     "status": "completed"
    },
    "tags": []
   },
   "outputs": [],
   "source": [
    "df=df.drop('PassengerId',axis=1)"
   ]
  },
  {
   "cell_type": "code",
   "execution_count": 34,
   "id": "92844cd5",
   "metadata": {
    "execution": {
     "iopub.execute_input": "2024-07-20T21:41:33.738574Z",
     "iopub.status.busy": "2024-07-20T21:41:33.737475Z",
     "iopub.status.idle": "2024-07-20T21:41:33.744068Z",
     "shell.execute_reply": "2024-07-20T21:41:33.742983Z"
    },
    "papermill": {
     "duration": 0.035687,
     "end_time": "2024-07-20T21:41:33.746389",
     "exception": false,
     "start_time": "2024-07-20T21:41:33.710702",
     "status": "completed"
    },
    "tags": []
   },
   "outputs": [],
   "source": [
    "x=df.drop('Survived',axis=1)\n",
    "y=df['Survived']"
   ]
  },
  {
   "cell_type": "markdown",
   "id": "119dd878",
   "metadata": {
    "papermill": {
     "duration": 0.025256,
     "end_time": "2024-07-20T21:41:33.797741",
     "exception": false,
     "start_time": "2024-07-20T21:41:33.772485",
     "status": "completed"
    },
    "tags": []
   },
   "source": [
    "#   <p style=\"width: 800px; border-radius: 12px; border: 3px dashed #ffe81c; padding: 20px; background-color: #058BDD; text-align: center; box-shadow: 0px 6px 12px rgba(0, 0, 0, 0.3); color: #F0FF00; text-shadow: 1px 1px 2px rgba(0, 0, 0, 0.3); font-weight: bold; margin-bottom: 15px; font-size: 30px;\">Train and test split</p>\n"
   ]
  },
  {
   "cell_type": "code",
   "execution_count": 35,
   "id": "45434c3b",
   "metadata": {
    "execution": {
     "iopub.execute_input": "2024-07-20T21:41:33.851313Z",
     "iopub.status.busy": "2024-07-20T21:41:33.850948Z",
     "iopub.status.idle": "2024-07-20T21:41:33.859970Z",
     "shell.execute_reply": "2024-07-20T21:41:33.858813Z"
    },
    "papermill": {
     "duration": 0.03819,
     "end_time": "2024-07-20T21:41:33.862263",
     "exception": false,
     "start_time": "2024-07-20T21:41:33.824073",
     "status": "completed"
    },
    "tags": []
   },
   "outputs": [],
   "source": [
    "x_train,x_test,y_train,y_test=train_test_split(x,y,random_state=42,test_size=0.2)"
   ]
  },
  {
   "cell_type": "markdown",
   "id": "59173bd5",
   "metadata": {
    "papermill": {
     "duration": 0.025941,
     "end_time": "2024-07-20T21:41:33.913992",
     "exception": false,
     "start_time": "2024-07-20T21:41:33.888051",
     "status": "completed"
    },
    "tags": []
   },
   "source": [
    "#   <p style=\"width: 800px; border-radius: 12px; border: 3px dashed #ffe81c; padding: 20px; background-color: #058BDD; text-align: center; box-shadow: 0px 6px 12px rgba(0, 0, 0, 0.3); color: #F0FF00; text-shadow: 1px 1px 2px rgba(0, 0, 0, 0.3); font-weight: bold; margin-bottom: 15px; font-size: 30px;\">StandardScaler</p>"
   ]
  },
  {
   "cell_type": "code",
   "execution_count": 36,
   "id": "3fd189fb",
   "metadata": {
    "execution": {
     "iopub.execute_input": "2024-07-20T21:41:33.967248Z",
     "iopub.status.busy": "2024-07-20T21:41:33.966787Z",
     "iopub.status.idle": "2024-07-20T21:41:33.978909Z",
     "shell.execute_reply": "2024-07-20T21:41:33.977882Z"
    },
    "papermill": {
     "duration": 0.041445,
     "end_time": "2024-07-20T21:41:33.981156",
     "exception": false,
     "start_time": "2024-07-20T21:41:33.939711",
     "status": "completed"
    },
    "tags": []
   },
   "outputs": [],
   "source": [
    "scal=StandardScaler()\n",
    "x_train=scal.fit_transform(x_train)\n",
    "x_test=scal.transform(x_test)"
   ]
  },
  {
   "cell_type": "markdown",
   "id": "be2cb00d",
   "metadata": {
    "papermill": {
     "duration": 0.025071,
     "end_time": "2024-07-20T21:41:34.031701",
     "exception": false,
     "start_time": "2024-07-20T21:41:34.006630",
     "status": "completed"
    },
    "tags": []
   },
   "source": [
    "#    <p style=\"width: 800px; border-radius: 12px; border: 3px dashed #ffe81c; padding: 20px; background-color: #058BDD; text-align: center; box-shadow: 0px 6px 12px rgba(0, 0, 0, 0.3); color: #F0FF00; text-shadow: 1px 1px 2px rgba(0, 0, 0, 0.3); font-weight: bold; margin-bottom: 15px; font-size: 30px;\">Grid Search in Attempt for Better Model</p>"
   ]
  },
  {
   "cell_type": "code",
   "execution_count": 37,
   "id": "a477b54d",
   "metadata": {
    "execution": {
     "iopub.execute_input": "2024-07-20T21:41:34.084085Z",
     "iopub.status.busy": "2024-07-20T21:41:34.083697Z",
     "iopub.status.idle": "2024-07-20T21:41:34.089280Z",
     "shell.execute_reply": "2024-07-20T21:41:34.088314Z"
    },
    "papermill": {
     "duration": 0.034285,
     "end_time": "2024-07-20T21:41:34.091344",
     "exception": false,
     "start_time": "2024-07-20T21:41:34.057059",
     "status": "completed"
    },
    "tags": []
   },
   "outputs": [],
   "source": [
    "model=RandomForestClassifier()\n",
    "parmet={\n",
    "        'criterion':['gini', 'entropy', 'log_loss'],\n",
    "        'max_features':['sqrt', 'log2'],\n",
    "        'class_weight':['balanced', 'balanced_subsample'],\n",
    "        'n_estimators':[10,20,50,60,100,150,200],\n",
    "       \n",
    "        \n",
    "\n",
    "}"
   ]
  },
  {
   "cell_type": "code",
   "execution_count": 38,
   "id": "d72d6bad",
   "metadata": {
    "execution": {
     "iopub.execute_input": "2024-07-20T21:41:34.144568Z",
     "iopub.status.busy": "2024-07-20T21:41:34.143379Z",
     "iopub.status.idle": "2024-07-20T21:41:34.148883Z",
     "shell.execute_reply": "2024-07-20T21:41:34.147584Z"
    },
    "papermill": {
     "duration": 0.034016,
     "end_time": "2024-07-20T21:41:34.151040",
     "exception": false,
     "start_time": "2024-07-20T21:41:34.117024",
     "status": "completed"
    },
    "tags": []
   },
   "outputs": [],
   "source": [
    "mode_gred=GridSearchCV(estimator=model,param_grid=parmet,cv=5,verbose=0)"
   ]
  },
  {
   "cell_type": "code",
   "execution_count": 39,
   "id": "5f8d07c8",
   "metadata": {
    "execution": {
     "iopub.execute_input": "2024-07-20T21:41:34.204326Z",
     "iopub.status.busy": "2024-07-20T21:41:34.203267Z",
     "iopub.status.idle": "2024-07-20T21:42:58.709073Z",
     "shell.execute_reply": "2024-07-20T21:42:58.707952Z"
    },
    "papermill": {
     "duration": 84.56397,
     "end_time": "2024-07-20T21:42:58.740588",
     "exception": false,
     "start_time": "2024-07-20T21:41:34.176618",
     "status": "completed"
    },
    "tags": []
   },
   "outputs": [
    {
     "data": {
      "text/html": [
       "<style>#sk-container-id-1 {color: black;background-color: white;}#sk-container-id-1 pre{padding: 0;}#sk-container-id-1 div.sk-toggleable {background-color: white;}#sk-container-id-1 label.sk-toggleable__label {cursor: pointer;display: block;width: 100%;margin-bottom: 0;padding: 0.3em;box-sizing: border-box;text-align: center;}#sk-container-id-1 label.sk-toggleable__label-arrow:before {content: \"▸\";float: left;margin-right: 0.25em;color: #696969;}#sk-container-id-1 label.sk-toggleable__label-arrow:hover:before {color: black;}#sk-container-id-1 div.sk-estimator:hover label.sk-toggleable__label-arrow:before {color: black;}#sk-container-id-1 div.sk-toggleable__content {max-height: 0;max-width: 0;overflow: hidden;text-align: left;background-color: #f0f8ff;}#sk-container-id-1 div.sk-toggleable__content pre {margin: 0.2em;color: black;border-radius: 0.25em;background-color: #f0f8ff;}#sk-container-id-1 input.sk-toggleable__control:checked~div.sk-toggleable__content {max-height: 200px;max-width: 100%;overflow: auto;}#sk-container-id-1 input.sk-toggleable__control:checked~label.sk-toggleable__label-arrow:before {content: \"▾\";}#sk-container-id-1 div.sk-estimator input.sk-toggleable__control:checked~label.sk-toggleable__label {background-color: #d4ebff;}#sk-container-id-1 div.sk-label input.sk-toggleable__control:checked~label.sk-toggleable__label {background-color: #d4ebff;}#sk-container-id-1 input.sk-hidden--visually {border: 0;clip: rect(1px 1px 1px 1px);clip: rect(1px, 1px, 1px, 1px);height: 1px;margin: -1px;overflow: hidden;padding: 0;position: absolute;width: 1px;}#sk-container-id-1 div.sk-estimator {font-family: monospace;background-color: #f0f8ff;border: 1px dotted black;border-radius: 0.25em;box-sizing: border-box;margin-bottom: 0.5em;}#sk-container-id-1 div.sk-estimator:hover {background-color: #d4ebff;}#sk-container-id-1 div.sk-parallel-item::after {content: \"\";width: 100%;border-bottom: 1px solid gray;flex-grow: 1;}#sk-container-id-1 div.sk-label:hover label.sk-toggleable__label {background-color: #d4ebff;}#sk-container-id-1 div.sk-serial::before {content: \"\";position: absolute;border-left: 1px solid gray;box-sizing: border-box;top: 0;bottom: 0;left: 50%;z-index: 0;}#sk-container-id-1 div.sk-serial {display: flex;flex-direction: column;align-items: center;background-color: white;padding-right: 0.2em;padding-left: 0.2em;position: relative;}#sk-container-id-1 div.sk-item {position: relative;z-index: 1;}#sk-container-id-1 div.sk-parallel {display: flex;align-items: stretch;justify-content: center;background-color: white;position: relative;}#sk-container-id-1 div.sk-item::before, #sk-container-id-1 div.sk-parallel-item::before {content: \"\";position: absolute;border-left: 1px solid gray;box-sizing: border-box;top: 0;bottom: 0;left: 50%;z-index: -1;}#sk-container-id-1 div.sk-parallel-item {display: flex;flex-direction: column;z-index: 1;position: relative;background-color: white;}#sk-container-id-1 div.sk-parallel-item:first-child::after {align-self: flex-end;width: 50%;}#sk-container-id-1 div.sk-parallel-item:last-child::after {align-self: flex-start;width: 50%;}#sk-container-id-1 div.sk-parallel-item:only-child::after {width: 0;}#sk-container-id-1 div.sk-dashed-wrapped {border: 1px dashed gray;margin: 0 0.4em 0.5em 0.4em;box-sizing: border-box;padding-bottom: 0.4em;background-color: white;}#sk-container-id-1 div.sk-label label {font-family: monospace;font-weight: bold;display: inline-block;line-height: 1.2em;}#sk-container-id-1 div.sk-label-container {text-align: center;}#sk-container-id-1 div.sk-container {/* jupyter's `normalize.less` sets `[hidden] { display: none; }` but bootstrap.min.css set `[hidden] { display: none !important; }` so we also need the `!important` here to be able to override the default hidden behavior on the sphinx rendered scikit-learn.org. See: https://github.com/scikit-learn/scikit-learn/issues/21755 */display: inline-block !important;position: relative;}#sk-container-id-1 div.sk-text-repr-fallback {display: none;}</style><div id=\"sk-container-id-1\" class=\"sk-top-container\"><div class=\"sk-text-repr-fallback\"><pre>GridSearchCV(cv=5, estimator=RandomForestClassifier(),\n",
       "             param_grid={&#x27;class_weight&#x27;: [&#x27;balanced&#x27;, &#x27;balanced_subsample&#x27;],\n",
       "                         &#x27;criterion&#x27;: [&#x27;gini&#x27;, &#x27;entropy&#x27;, &#x27;log_loss&#x27;],\n",
       "                         &#x27;max_features&#x27;: [&#x27;sqrt&#x27;, &#x27;log2&#x27;],\n",
       "                         &#x27;n_estimators&#x27;: [10, 20, 50, 60, 100, 150, 200]})</pre><b>In a Jupyter environment, please rerun this cell to show the HTML representation or trust the notebook. <br />On GitHub, the HTML representation is unable to render, please try loading this page with nbviewer.org.</b></div><div class=\"sk-container\" hidden><div class=\"sk-item sk-dashed-wrapped\"><div class=\"sk-label-container\"><div class=\"sk-label sk-toggleable\"><input class=\"sk-toggleable__control sk-hidden--visually\" id=\"sk-estimator-id-1\" type=\"checkbox\" ><label for=\"sk-estimator-id-1\" class=\"sk-toggleable__label sk-toggleable__label-arrow\">GridSearchCV</label><div class=\"sk-toggleable__content\"><pre>GridSearchCV(cv=5, estimator=RandomForestClassifier(),\n",
       "             param_grid={&#x27;class_weight&#x27;: [&#x27;balanced&#x27;, &#x27;balanced_subsample&#x27;],\n",
       "                         &#x27;criterion&#x27;: [&#x27;gini&#x27;, &#x27;entropy&#x27;, &#x27;log_loss&#x27;],\n",
       "                         &#x27;max_features&#x27;: [&#x27;sqrt&#x27;, &#x27;log2&#x27;],\n",
       "                         &#x27;n_estimators&#x27;: [10, 20, 50, 60, 100, 150, 200]})</pre></div></div></div><div class=\"sk-parallel\"><div class=\"sk-parallel-item\"><div class=\"sk-item\"><div class=\"sk-label-container\"><div class=\"sk-label sk-toggleable\"><input class=\"sk-toggleable__control sk-hidden--visually\" id=\"sk-estimator-id-2\" type=\"checkbox\" ><label for=\"sk-estimator-id-2\" class=\"sk-toggleable__label sk-toggleable__label-arrow\">estimator: RandomForestClassifier</label><div class=\"sk-toggleable__content\"><pre>RandomForestClassifier()</pre></div></div></div><div class=\"sk-serial\"><div class=\"sk-item\"><div class=\"sk-estimator sk-toggleable\"><input class=\"sk-toggleable__control sk-hidden--visually\" id=\"sk-estimator-id-3\" type=\"checkbox\" ><label for=\"sk-estimator-id-3\" class=\"sk-toggleable__label sk-toggleable__label-arrow\">RandomForestClassifier</label><div class=\"sk-toggleable__content\"><pre>RandomForestClassifier()</pre></div></div></div></div></div></div></div></div></div></div>"
      ],
      "text/plain": [
       "GridSearchCV(cv=5, estimator=RandomForestClassifier(),\n",
       "             param_grid={'class_weight': ['balanced', 'balanced_subsample'],\n",
       "                         'criterion': ['gini', 'entropy', 'log_loss'],\n",
       "                         'max_features': ['sqrt', 'log2'],\n",
       "                         'n_estimators': [10, 20, 50, 60, 100, 150, 200]})"
      ]
     },
     "execution_count": 39,
     "metadata": {},
     "output_type": "execute_result"
    }
   ],
   "source": [
    "mode_gred.fit(x_train,y_train)"
   ]
  },
  {
   "cell_type": "markdown",
   "id": "7e5a20b3",
   "metadata": {
    "papermill": {
     "duration": 0.027471,
     "end_time": "2024-07-20T21:42:58.794235",
     "exception": false,
     "start_time": "2024-07-20T21:42:58.766764",
     "status": "completed"
    },
    "tags": []
   },
   "source": [
    "#  <p style=\"width: 800px; border-radius: 12px; border: 3px dashed #ffe81c; padding: 20px; background-color: #058BDD; text-align: center; box-shadow: 0px 6px 12px rgba(0, 0, 0, 0.3); color: #F0FF00; text-shadow: 1px 1px 2px rgba(0, 0, 0, 0.3); font-weight: bold; margin-bottom: 15px; font-size: 30px;\">Evaluation</p>"
   ]
  },
  {
   "cell_type": "code",
   "execution_count": 40,
   "id": "1dc4b362",
   "metadata": {
    "execution": {
     "iopub.execute_input": "2024-07-20T21:42:58.849403Z",
     "iopub.status.busy": "2024-07-20T21:42:58.848994Z",
     "iopub.status.idle": "2024-07-20T21:42:58.856091Z",
     "shell.execute_reply": "2024-07-20T21:42:58.854834Z"
    },
    "papermill": {
     "duration": 0.036956,
     "end_time": "2024-07-20T21:42:58.858424",
     "exception": false,
     "start_time": "2024-07-20T21:42:58.821468",
     "status": "completed"
    },
    "tags": []
   },
   "outputs": [
    {
     "data": {
      "text/plain": [
       "{'class_weight': 'balanced',\n",
       " 'criterion': 'log_loss',\n",
       " 'max_features': 'sqrt',\n",
       " 'n_estimators': 60}"
      ]
     },
     "execution_count": 40,
     "metadata": {},
     "output_type": "execute_result"
    }
   ],
   "source": [
    "mode_gred.best_params_"
   ]
  },
  {
   "cell_type": "code",
   "execution_count": 41,
   "id": "88ac4fa8",
   "metadata": {
    "execution": {
     "iopub.execute_input": "2024-07-20T21:42:58.914602Z",
     "iopub.status.busy": "2024-07-20T21:42:58.913486Z",
     "iopub.status.idle": "2024-07-20T21:42:58.925759Z",
     "shell.execute_reply": "2024-07-20T21:42:58.924585Z"
    },
    "papermill": {
     "duration": 0.042679,
     "end_time": "2024-07-20T21:42:58.928452",
     "exception": false,
     "start_time": "2024-07-20T21:42:58.885773",
     "status": "completed"
    },
    "tags": []
   },
   "outputs": [],
   "source": [
    "pred_y=mode_gred.predict(x_test)"
   ]
  },
  {
   "cell_type": "code",
   "execution_count": 42,
   "id": "f381edf9",
   "metadata": {
    "execution": {
     "iopub.execute_input": "2024-07-20T21:42:58.982674Z",
     "iopub.status.busy": "2024-07-20T21:42:58.982282Z",
     "iopub.status.idle": "2024-07-20T21:42:58.991452Z",
     "shell.execute_reply": "2024-07-20T21:42:58.990444Z"
    },
    "papermill": {
     "duration": 0.038724,
     "end_time": "2024-07-20T21:42:58.993708",
     "exception": false,
     "start_time": "2024-07-20T21:42:58.954984",
     "status": "completed"
    },
    "tags": []
   },
   "outputs": [
    {
     "data": {
      "text/plain": [
       "array([[94, 15],\n",
       "       [19, 50]])"
      ]
     },
     "execution_count": 42,
     "metadata": {},
     "output_type": "execute_result"
    }
   ],
   "source": [
    "confusion_matrix(y_test,pred_y)"
   ]
  },
  {
   "cell_type": "code",
   "execution_count": 43,
   "id": "7cd647d3",
   "metadata": {
    "execution": {
     "iopub.execute_input": "2024-07-20T21:42:59.048344Z",
     "iopub.status.busy": "2024-07-20T21:42:59.047966Z",
     "iopub.status.idle": "2024-07-20T21:42:59.061822Z",
     "shell.execute_reply": "2024-07-20T21:42:59.060355Z"
    },
    "papermill": {
     "duration": 0.043979,
     "end_time": "2024-07-20T21:42:59.064238",
     "exception": false,
     "start_time": "2024-07-20T21:42:59.020259",
     "status": "completed"
    },
    "tags": []
   },
   "outputs": [
    {
     "name": "stdout",
     "output_type": "stream",
     "text": [
      "              precision    recall  f1-score   support\n",
      "\n",
      "           0       0.83      0.86      0.85       109\n",
      "           1       0.77      0.72      0.75        69\n",
      "\n",
      "    accuracy                           0.81       178\n",
      "   macro avg       0.80      0.79      0.80       178\n",
      "weighted avg       0.81      0.81      0.81       178\n",
      "\n"
     ]
    }
   ],
   "source": [
    "print(classification_report(y_test,pred_y))"
   ]
  },
  {
   "cell_type": "code",
   "execution_count": 44,
   "id": "0cfbce6f",
   "metadata": {
    "execution": {
     "iopub.execute_input": "2024-07-20T21:42:59.118906Z",
     "iopub.status.busy": "2024-07-20T21:42:59.118499Z",
     "iopub.status.idle": "2024-07-20T21:42:59.129211Z",
     "shell.execute_reply": "2024-07-20T21:42:59.128138Z"
    },
    "papermill": {
     "duration": 0.040635,
     "end_time": "2024-07-20T21:42:59.131548",
     "exception": false,
     "start_time": "2024-07-20T21:42:59.090913",
     "status": "completed"
    },
    "tags": []
   },
   "outputs": [
    {
     "data": {
      "text/plain": [
       "0.7692307692307693"
      ]
     },
     "execution_count": 44,
     "metadata": {},
     "output_type": "execute_result"
    }
   ],
   "source": [
    "precision_score(y_test,pred_y)"
   ]
  },
  {
   "cell_type": "code",
   "execution_count": 45,
   "id": "6e827fa6",
   "metadata": {
    "execution": {
     "iopub.execute_input": "2024-07-20T21:42:59.187061Z",
     "iopub.status.busy": "2024-07-20T21:42:59.186164Z",
     "iopub.status.idle": "2024-07-20T21:42:59.196585Z",
     "shell.execute_reply": "2024-07-20T21:42:59.195583Z"
    },
    "papermill": {
     "duration": 0.040418,
     "end_time": "2024-07-20T21:42:59.198879",
     "exception": false,
     "start_time": "2024-07-20T21:42:59.158461",
     "status": "completed"
    },
    "tags": []
   },
   "outputs": [
    {
     "data": {
      "text/plain": [
       "0.7246376811594203"
      ]
     },
     "execution_count": 45,
     "metadata": {},
     "output_type": "execute_result"
    }
   ],
   "source": [
    "recall_score(y_test,pred_y)"
   ]
  },
  {
   "cell_type": "markdown",
   "id": "e969eb53",
   "metadata": {
    "papermill": {
     "duration": 0.025879,
     "end_time": "2024-07-20T21:42:59.251751",
     "exception": false,
     "start_time": "2024-07-20T21:42:59.225872",
     "status": "completed"
    },
    "tags": []
   },
   "source": [
    "#  <p style=\"width: 800px; border-radius: 12px; border: 3px dashed #ffe81c; padding: 20px; background-color: #058BDD; text-align: center; box-shadow: 0px 6px 12px rgba(0, 0, 0, 0.3); color: #F0FF00; text-shadow: 1px 1px 2px rgba(0, 0, 0, 0.3); font-weight: bold; margin-bottom: 15px; font-size: 30px;\">Final Model</p>"
   ]
  },
  {
   "cell_type": "code",
   "execution_count": 46,
   "id": "cede872a",
   "metadata": {
    "execution": {
     "iopub.execute_input": "2024-07-20T21:42:59.307040Z",
     "iopub.status.busy": "2024-07-20T21:42:59.306044Z",
     "iopub.status.idle": "2024-07-20T21:42:59.316120Z",
     "shell.execute_reply": "2024-07-20T21:42:59.314892Z"
    },
    "papermill": {
     "duration": 0.040488,
     "end_time": "2024-07-20T21:42:59.318753",
     "exception": false,
     "start_time": "2024-07-20T21:42:59.278265",
     "status": "completed"
    },
    "tags": []
   },
   "outputs": [],
   "source": [
    "scal=StandardScaler()\n",
    "\n",
    "x=scal.fit_transform(x)"
   ]
  },
  {
   "cell_type": "code",
   "execution_count": 47,
   "id": "7398f464",
   "metadata": {
    "execution": {
     "iopub.execute_input": "2024-07-20T21:42:59.374071Z",
     "iopub.status.busy": "2024-07-20T21:42:59.373708Z",
     "iopub.status.idle": "2024-07-20T21:42:59.745274Z",
     "shell.execute_reply": "2024-07-20T21:42:59.744199Z"
    },
    "papermill": {
     "duration": 0.401466,
     "end_time": "2024-07-20T21:42:59.747568",
     "exception": false,
     "start_time": "2024-07-20T21:42:59.346102",
     "status": "completed"
    },
    "tags": []
   },
   "outputs": [
    {
     "data": {
      "text/html": [
       "<style>#sk-container-id-2 {color: black;background-color: white;}#sk-container-id-2 pre{padding: 0;}#sk-container-id-2 div.sk-toggleable {background-color: white;}#sk-container-id-2 label.sk-toggleable__label {cursor: pointer;display: block;width: 100%;margin-bottom: 0;padding: 0.3em;box-sizing: border-box;text-align: center;}#sk-container-id-2 label.sk-toggleable__label-arrow:before {content: \"▸\";float: left;margin-right: 0.25em;color: #696969;}#sk-container-id-2 label.sk-toggleable__label-arrow:hover:before {color: black;}#sk-container-id-2 div.sk-estimator:hover label.sk-toggleable__label-arrow:before {color: black;}#sk-container-id-2 div.sk-toggleable__content {max-height: 0;max-width: 0;overflow: hidden;text-align: left;background-color: #f0f8ff;}#sk-container-id-2 div.sk-toggleable__content pre {margin: 0.2em;color: black;border-radius: 0.25em;background-color: #f0f8ff;}#sk-container-id-2 input.sk-toggleable__control:checked~div.sk-toggleable__content {max-height: 200px;max-width: 100%;overflow: auto;}#sk-container-id-2 input.sk-toggleable__control:checked~label.sk-toggleable__label-arrow:before {content: \"▾\";}#sk-container-id-2 div.sk-estimator input.sk-toggleable__control:checked~label.sk-toggleable__label {background-color: #d4ebff;}#sk-container-id-2 div.sk-label input.sk-toggleable__control:checked~label.sk-toggleable__label {background-color: #d4ebff;}#sk-container-id-2 input.sk-hidden--visually {border: 0;clip: rect(1px 1px 1px 1px);clip: rect(1px, 1px, 1px, 1px);height: 1px;margin: -1px;overflow: hidden;padding: 0;position: absolute;width: 1px;}#sk-container-id-2 div.sk-estimator {font-family: monospace;background-color: #f0f8ff;border: 1px dotted black;border-radius: 0.25em;box-sizing: border-box;margin-bottom: 0.5em;}#sk-container-id-2 div.sk-estimator:hover {background-color: #d4ebff;}#sk-container-id-2 div.sk-parallel-item::after {content: \"\";width: 100%;border-bottom: 1px solid gray;flex-grow: 1;}#sk-container-id-2 div.sk-label:hover label.sk-toggleable__label {background-color: #d4ebff;}#sk-container-id-2 div.sk-serial::before {content: \"\";position: absolute;border-left: 1px solid gray;box-sizing: border-box;top: 0;bottom: 0;left: 50%;z-index: 0;}#sk-container-id-2 div.sk-serial {display: flex;flex-direction: column;align-items: center;background-color: white;padding-right: 0.2em;padding-left: 0.2em;position: relative;}#sk-container-id-2 div.sk-item {position: relative;z-index: 1;}#sk-container-id-2 div.sk-parallel {display: flex;align-items: stretch;justify-content: center;background-color: white;position: relative;}#sk-container-id-2 div.sk-item::before, #sk-container-id-2 div.sk-parallel-item::before {content: \"\";position: absolute;border-left: 1px solid gray;box-sizing: border-box;top: 0;bottom: 0;left: 50%;z-index: -1;}#sk-container-id-2 div.sk-parallel-item {display: flex;flex-direction: column;z-index: 1;position: relative;background-color: white;}#sk-container-id-2 div.sk-parallel-item:first-child::after {align-self: flex-end;width: 50%;}#sk-container-id-2 div.sk-parallel-item:last-child::after {align-self: flex-start;width: 50%;}#sk-container-id-2 div.sk-parallel-item:only-child::after {width: 0;}#sk-container-id-2 div.sk-dashed-wrapped {border: 1px dashed gray;margin: 0 0.4em 0.5em 0.4em;box-sizing: border-box;padding-bottom: 0.4em;background-color: white;}#sk-container-id-2 div.sk-label label {font-family: monospace;font-weight: bold;display: inline-block;line-height: 1.2em;}#sk-container-id-2 div.sk-label-container {text-align: center;}#sk-container-id-2 div.sk-container {/* jupyter's `normalize.less` sets `[hidden] { display: none; }` but bootstrap.min.css set `[hidden] { display: none !important; }` so we also need the `!important` here to be able to override the default hidden behavior on the sphinx rendered scikit-learn.org. See: https://github.com/scikit-learn/scikit-learn/issues/21755 */display: inline-block !important;position: relative;}#sk-container-id-2 div.sk-text-repr-fallback {display: none;}</style><div id=\"sk-container-id-2\" class=\"sk-top-container\"><div class=\"sk-text-repr-fallback\"><pre>RandomForestClassifier(class_weight=&#x27;balanced&#x27;, criterion=&#x27;log_loss&#x27;,\n",
       "                       max_features=&#x27;log2&#x27;, n_estimators=150)</pre><b>In a Jupyter environment, please rerun this cell to show the HTML representation or trust the notebook. <br />On GitHub, the HTML representation is unable to render, please try loading this page with nbviewer.org.</b></div><div class=\"sk-container\" hidden><div class=\"sk-item\"><div class=\"sk-estimator sk-toggleable\"><input class=\"sk-toggleable__control sk-hidden--visually\" id=\"sk-estimator-id-4\" type=\"checkbox\" checked><label for=\"sk-estimator-id-4\" class=\"sk-toggleable__label sk-toggleable__label-arrow\">RandomForestClassifier</label><div class=\"sk-toggleable__content\"><pre>RandomForestClassifier(class_weight=&#x27;balanced&#x27;, criterion=&#x27;log_loss&#x27;,\n",
       "                       max_features=&#x27;log2&#x27;, n_estimators=150)</pre></div></div></div></div></div>"
      ],
      "text/plain": [
       "RandomForestClassifier(class_weight='balanced', criterion='log_loss',\n",
       "                       max_features='log2', n_estimators=150)"
      ]
     },
     "execution_count": 47,
     "metadata": {},
     "output_type": "execute_result"
    }
   ],
   "source": [
    "model=RandomForestClassifier(class_weight='balanced',criterion='log_loss',max_features='log2',n_estimators=150)\n",
    "model.fit(x,y)"
   ]
  },
  {
   "cell_type": "markdown",
   "id": "03a31905",
   "metadata": {
    "papermill": {
     "duration": 0.026818,
     "end_time": "2024-07-20T21:42:59.801317",
     "exception": false,
     "start_time": "2024-07-20T21:42:59.774499",
     "status": "completed"
    },
    "tags": []
   },
   "source": [
    "#  <p style=\"width: 800px; border-radius: 12px; border: 3px dashed #ffe81c; padding: 20px; background-color: #058BDD; text-align: center; box-shadow: 0px 6px 12px rgba(0, 0, 0, 0.3); color: #F0FF00; text-shadow: 1px 1px 2px rgba(0, 0, 0, 0.3); font-weight: bold; margin-bottom: 15px; font-size: 30px;\">read test data</p>"
   ]
  },
  {
   "cell_type": "code",
   "execution_count": 48,
   "id": "902d9cca",
   "metadata": {
    "execution": {
     "iopub.execute_input": "2024-07-20T21:42:59.857446Z",
     "iopub.status.busy": "2024-07-20T21:42:59.856464Z",
     "iopub.status.idle": "2024-07-20T21:42:59.872547Z",
     "shell.execute_reply": "2024-07-20T21:42:59.871330Z"
    },
    "papermill": {
     "duration": 0.04714,
     "end_time": "2024-07-20T21:42:59.875176",
     "exception": false,
     "start_time": "2024-07-20T21:42:59.828036",
     "status": "completed"
    },
    "tags": []
   },
   "outputs": [],
   "source": [
    "x=pd.read_csv('/kaggle/input/titanic/test.csv')"
   ]
  },
  {
   "cell_type": "code",
   "execution_count": 49,
   "id": "f5fe0323",
   "metadata": {
    "execution": {
     "iopub.execute_input": "2024-07-20T21:42:59.933136Z",
     "iopub.status.busy": "2024-07-20T21:42:59.932768Z",
     "iopub.status.idle": "2024-07-20T21:42:59.951706Z",
     "shell.execute_reply": "2024-07-20T21:42:59.950608Z"
    },
    "papermill": {
     "duration": 0.049712,
     "end_time": "2024-07-20T21:42:59.954042",
     "exception": false,
     "start_time": "2024-07-20T21:42:59.904330",
     "status": "completed"
    },
    "tags": []
   },
   "outputs": [
    {
     "data": {
      "text/html": [
       "<div>\n",
       "<style scoped>\n",
       "    .dataframe tbody tr th:only-of-type {\n",
       "        vertical-align: middle;\n",
       "    }\n",
       "\n",
       "    .dataframe tbody tr th {\n",
       "        vertical-align: top;\n",
       "    }\n",
       "\n",
       "    .dataframe thead th {\n",
       "        text-align: right;\n",
       "    }\n",
       "</style>\n",
       "<table border=\"1\" class=\"dataframe\">\n",
       "  <thead>\n",
       "    <tr style=\"text-align: right;\">\n",
       "      <th></th>\n",
       "      <th>PassengerId</th>\n",
       "      <th>Pclass</th>\n",
       "      <th>Name</th>\n",
       "      <th>Sex</th>\n",
       "      <th>Age</th>\n",
       "      <th>SibSp</th>\n",
       "      <th>Parch</th>\n",
       "      <th>Ticket</th>\n",
       "      <th>Fare</th>\n",
       "      <th>Cabin</th>\n",
       "      <th>Embarked</th>\n",
       "    </tr>\n",
       "  </thead>\n",
       "  <tbody>\n",
       "    <tr>\n",
       "      <th>0</th>\n",
       "      <td>892</td>\n",
       "      <td>3</td>\n",
       "      <td>Kelly, Mr. James</td>\n",
       "      <td>male</td>\n",
       "      <td>34.5</td>\n",
       "      <td>0</td>\n",
       "      <td>0</td>\n",
       "      <td>330911</td>\n",
       "      <td>7.8292</td>\n",
       "      <td>NaN</td>\n",
       "      <td>Q</td>\n",
       "    </tr>\n",
       "    <tr>\n",
       "      <th>1</th>\n",
       "      <td>893</td>\n",
       "      <td>3</td>\n",
       "      <td>Wilkes, Mrs. James (Ellen Needs)</td>\n",
       "      <td>female</td>\n",
       "      <td>47.0</td>\n",
       "      <td>1</td>\n",
       "      <td>0</td>\n",
       "      <td>363272</td>\n",
       "      <td>7.0000</td>\n",
       "      <td>NaN</td>\n",
       "      <td>S</td>\n",
       "    </tr>\n",
       "    <tr>\n",
       "      <th>2</th>\n",
       "      <td>894</td>\n",
       "      <td>2</td>\n",
       "      <td>Myles, Mr. Thomas Francis</td>\n",
       "      <td>male</td>\n",
       "      <td>62.0</td>\n",
       "      <td>0</td>\n",
       "      <td>0</td>\n",
       "      <td>240276</td>\n",
       "      <td>9.6875</td>\n",
       "      <td>NaN</td>\n",
       "      <td>Q</td>\n",
       "    </tr>\n",
       "    <tr>\n",
       "      <th>3</th>\n",
       "      <td>895</td>\n",
       "      <td>3</td>\n",
       "      <td>Wirz, Mr. Albert</td>\n",
       "      <td>male</td>\n",
       "      <td>27.0</td>\n",
       "      <td>0</td>\n",
       "      <td>0</td>\n",
       "      <td>315154</td>\n",
       "      <td>8.6625</td>\n",
       "      <td>NaN</td>\n",
       "      <td>S</td>\n",
       "    </tr>\n",
       "    <tr>\n",
       "      <th>4</th>\n",
       "      <td>896</td>\n",
       "      <td>3</td>\n",
       "      <td>Hirvonen, Mrs. Alexander (Helga E Lindqvist)</td>\n",
       "      <td>female</td>\n",
       "      <td>22.0</td>\n",
       "      <td>1</td>\n",
       "      <td>1</td>\n",
       "      <td>3101298</td>\n",
       "      <td>12.2875</td>\n",
       "      <td>NaN</td>\n",
       "      <td>S</td>\n",
       "    </tr>\n",
       "    <tr>\n",
       "      <th>...</th>\n",
       "      <td>...</td>\n",
       "      <td>...</td>\n",
       "      <td>...</td>\n",
       "      <td>...</td>\n",
       "      <td>...</td>\n",
       "      <td>...</td>\n",
       "      <td>...</td>\n",
       "      <td>...</td>\n",
       "      <td>...</td>\n",
       "      <td>...</td>\n",
       "      <td>...</td>\n",
       "    </tr>\n",
       "    <tr>\n",
       "      <th>413</th>\n",
       "      <td>1305</td>\n",
       "      <td>3</td>\n",
       "      <td>Spector, Mr. Woolf</td>\n",
       "      <td>male</td>\n",
       "      <td>NaN</td>\n",
       "      <td>0</td>\n",
       "      <td>0</td>\n",
       "      <td>A.5. 3236</td>\n",
       "      <td>8.0500</td>\n",
       "      <td>NaN</td>\n",
       "      <td>S</td>\n",
       "    </tr>\n",
       "    <tr>\n",
       "      <th>414</th>\n",
       "      <td>1306</td>\n",
       "      <td>1</td>\n",
       "      <td>Oliva y Ocana, Dona. Fermina</td>\n",
       "      <td>female</td>\n",
       "      <td>39.0</td>\n",
       "      <td>0</td>\n",
       "      <td>0</td>\n",
       "      <td>PC 17758</td>\n",
       "      <td>108.9000</td>\n",
       "      <td>C105</td>\n",
       "      <td>C</td>\n",
       "    </tr>\n",
       "    <tr>\n",
       "      <th>415</th>\n",
       "      <td>1307</td>\n",
       "      <td>3</td>\n",
       "      <td>Saether, Mr. Simon Sivertsen</td>\n",
       "      <td>male</td>\n",
       "      <td>38.5</td>\n",
       "      <td>0</td>\n",
       "      <td>0</td>\n",
       "      <td>SOTON/O.Q. 3101262</td>\n",
       "      <td>7.2500</td>\n",
       "      <td>NaN</td>\n",
       "      <td>S</td>\n",
       "    </tr>\n",
       "    <tr>\n",
       "      <th>416</th>\n",
       "      <td>1308</td>\n",
       "      <td>3</td>\n",
       "      <td>Ware, Mr. Frederick</td>\n",
       "      <td>male</td>\n",
       "      <td>NaN</td>\n",
       "      <td>0</td>\n",
       "      <td>0</td>\n",
       "      <td>359309</td>\n",
       "      <td>8.0500</td>\n",
       "      <td>NaN</td>\n",
       "      <td>S</td>\n",
       "    </tr>\n",
       "    <tr>\n",
       "      <th>417</th>\n",
       "      <td>1309</td>\n",
       "      <td>3</td>\n",
       "      <td>Peter, Master. Michael J</td>\n",
       "      <td>male</td>\n",
       "      <td>NaN</td>\n",
       "      <td>1</td>\n",
       "      <td>1</td>\n",
       "      <td>2668</td>\n",
       "      <td>22.3583</td>\n",
       "      <td>NaN</td>\n",
       "      <td>C</td>\n",
       "    </tr>\n",
       "  </tbody>\n",
       "</table>\n",
       "<p>418 rows × 11 columns</p>\n",
       "</div>"
      ],
      "text/plain": [
       "     PassengerId  Pclass                                          Name  \\\n",
       "0            892       3                              Kelly, Mr. James   \n",
       "1            893       3              Wilkes, Mrs. James (Ellen Needs)   \n",
       "2            894       2                     Myles, Mr. Thomas Francis   \n",
       "3            895       3                              Wirz, Mr. Albert   \n",
       "4            896       3  Hirvonen, Mrs. Alexander (Helga E Lindqvist)   \n",
       "..           ...     ...                                           ...   \n",
       "413         1305       3                            Spector, Mr. Woolf   \n",
       "414         1306       1                  Oliva y Ocana, Dona. Fermina   \n",
       "415         1307       3                  Saether, Mr. Simon Sivertsen   \n",
       "416         1308       3                           Ware, Mr. Frederick   \n",
       "417         1309       3                      Peter, Master. Michael J   \n",
       "\n",
       "        Sex   Age  SibSp  Parch              Ticket      Fare Cabin Embarked  \n",
       "0      male  34.5      0      0              330911    7.8292   NaN        Q  \n",
       "1    female  47.0      1      0              363272    7.0000   NaN        S  \n",
       "2      male  62.0      0      0              240276    9.6875   NaN        Q  \n",
       "3      male  27.0      0      0              315154    8.6625   NaN        S  \n",
       "4    female  22.0      1      1             3101298   12.2875   NaN        S  \n",
       "..      ...   ...    ...    ...                 ...       ...   ...      ...  \n",
       "413    male   NaN      0      0           A.5. 3236    8.0500   NaN        S  \n",
       "414  female  39.0      0      0            PC 17758  108.9000  C105        C  \n",
       "415    male  38.5      0      0  SOTON/O.Q. 3101262    7.2500   NaN        S  \n",
       "416    male   NaN      0      0              359309    8.0500   NaN        S  \n",
       "417    male   NaN      1      1                2668   22.3583   NaN        C  \n",
       "\n",
       "[418 rows x 11 columns]"
      ]
     },
     "execution_count": 49,
     "metadata": {},
     "output_type": "execute_result"
    }
   ],
   "source": [
    "x"
   ]
  },
  {
   "cell_type": "code",
   "execution_count": 50,
   "id": "a0bdfa69",
   "metadata": {
    "execution": {
     "iopub.execute_input": "2024-07-20T21:43:00.010658Z",
     "iopub.status.busy": "2024-07-20T21:43:00.010260Z",
     "iopub.status.idle": "2024-07-20T21:43:00.028067Z",
     "shell.execute_reply": "2024-07-20T21:43:00.027018Z"
    },
    "papermill": {
     "duration": 0.048877,
     "end_time": "2024-07-20T21:43:00.030373",
     "exception": false,
     "start_time": "2024-07-20T21:42:59.981496",
     "status": "completed"
    },
    "tags": []
   },
   "outputs": [
    {
     "data": {
      "text/html": [
       "<div>\n",
       "<style scoped>\n",
       "    .dataframe tbody tr th:only-of-type {\n",
       "        vertical-align: middle;\n",
       "    }\n",
       "\n",
       "    .dataframe tbody tr th {\n",
       "        vertical-align: top;\n",
       "    }\n",
       "\n",
       "    .dataframe thead th {\n",
       "        text-align: right;\n",
       "    }\n",
       "</style>\n",
       "<table border=\"1\" class=\"dataframe\">\n",
       "  <thead>\n",
       "    <tr style=\"text-align: right;\">\n",
       "      <th></th>\n",
       "      <th>Survived</th>\n",
       "      <th>Pclass</th>\n",
       "      <th>Age</th>\n",
       "      <th>SibSp</th>\n",
       "      <th>Fare</th>\n",
       "      <th>Sex</th>\n",
       "      <th>Ticket</th>\n",
       "      <th>Embarked</th>\n",
       "    </tr>\n",
       "  </thead>\n",
       "  <tbody>\n",
       "    <tr>\n",
       "      <th>0</th>\n",
       "      <td>0</td>\n",
       "      <td>3</td>\n",
       "      <td>22.0</td>\n",
       "      <td>1</td>\n",
       "      <td>7.2500</td>\n",
       "      <td>1</td>\n",
       "      <td>523</td>\n",
       "      <td>0.0</td>\n",
       "    </tr>\n",
       "    <tr>\n",
       "      <th>1</th>\n",
       "      <td>1</td>\n",
       "      <td>1</td>\n",
       "      <td>38.0</td>\n",
       "      <td>1</td>\n",
       "      <td>71.2833</td>\n",
       "      <td>0</td>\n",
       "      <td>596</td>\n",
       "      <td>1.0</td>\n",
       "    </tr>\n",
       "    <tr>\n",
       "      <th>2</th>\n",
       "      <td>1</td>\n",
       "      <td>3</td>\n",
       "      <td>26.0</td>\n",
       "      <td>0</td>\n",
       "      <td>7.9250</td>\n",
       "      <td>0</td>\n",
       "      <td>669</td>\n",
       "      <td>0.0</td>\n",
       "    </tr>\n",
       "    <tr>\n",
       "      <th>3</th>\n",
       "      <td>1</td>\n",
       "      <td>1</td>\n",
       "      <td>35.0</td>\n",
       "      <td>1</td>\n",
       "      <td>53.1000</td>\n",
       "      <td>0</td>\n",
       "      <td>49</td>\n",
       "      <td>0.0</td>\n",
       "    </tr>\n",
       "    <tr>\n",
       "      <th>4</th>\n",
       "      <td>0</td>\n",
       "      <td>3</td>\n",
       "      <td>35.0</td>\n",
       "      <td>0</td>\n",
       "      <td>8.0500</td>\n",
       "      <td>1</td>\n",
       "      <td>472</td>\n",
       "      <td>0.0</td>\n",
       "    </tr>\n",
       "    <tr>\n",
       "      <th>...</th>\n",
       "      <td>...</td>\n",
       "      <td>...</td>\n",
       "      <td>...</td>\n",
       "      <td>...</td>\n",
       "      <td>...</td>\n",
       "      <td>...</td>\n",
       "      <td>...</td>\n",
       "      <td>...</td>\n",
       "    </tr>\n",
       "    <tr>\n",
       "      <th>886</th>\n",
       "      <td>0</td>\n",
       "      <td>2</td>\n",
       "      <td>27.0</td>\n",
       "      <td>0</td>\n",
       "      <td>13.0000</td>\n",
       "      <td>1</td>\n",
       "      <td>101</td>\n",
       "      <td>0.0</td>\n",
       "    </tr>\n",
       "    <tr>\n",
       "      <th>887</th>\n",
       "      <td>1</td>\n",
       "      <td>1</td>\n",
       "      <td>19.0</td>\n",
       "      <td>0</td>\n",
       "      <td>30.0000</td>\n",
       "      <td>0</td>\n",
       "      <td>14</td>\n",
       "      <td>0.0</td>\n",
       "    </tr>\n",
       "    <tr>\n",
       "      <th>888</th>\n",
       "      <td>0</td>\n",
       "      <td>3</td>\n",
       "      <td>28.0</td>\n",
       "      <td>1</td>\n",
       "      <td>23.4500</td>\n",
       "      <td>0</td>\n",
       "      <td>675</td>\n",
       "      <td>0.0</td>\n",
       "    </tr>\n",
       "    <tr>\n",
       "      <th>889</th>\n",
       "      <td>1</td>\n",
       "      <td>1</td>\n",
       "      <td>26.0</td>\n",
       "      <td>0</td>\n",
       "      <td>30.0000</td>\n",
       "      <td>1</td>\n",
       "      <td>8</td>\n",
       "      <td>1.0</td>\n",
       "    </tr>\n",
       "    <tr>\n",
       "      <th>890</th>\n",
       "      <td>0</td>\n",
       "      <td>3</td>\n",
       "      <td>32.0</td>\n",
       "      <td>0</td>\n",
       "      <td>7.7500</td>\n",
       "      <td>1</td>\n",
       "      <td>466</td>\n",
       "      <td>2.0</td>\n",
       "    </tr>\n",
       "  </tbody>\n",
       "</table>\n",
       "<p>889 rows × 8 columns</p>\n",
       "</div>"
      ],
      "text/plain": [
       "     Survived  Pclass   Age  SibSp     Fare  Sex  Ticket  Embarked\n",
       "0           0       3  22.0      1   7.2500    1     523       0.0\n",
       "1           1       1  38.0      1  71.2833    0     596       1.0\n",
       "2           1       3  26.0      0   7.9250    0     669       0.0\n",
       "3           1       1  35.0      1  53.1000    0      49       0.0\n",
       "4           0       3  35.0      0   8.0500    1     472       0.0\n",
       "..        ...     ...   ...    ...      ...  ...     ...       ...\n",
       "886         0       2  27.0      0  13.0000    1     101       0.0\n",
       "887         1       1  19.0      0  30.0000    0      14       0.0\n",
       "888         0       3  28.0      1  23.4500    0     675       0.0\n",
       "889         1       1  26.0      0  30.0000    1       8       1.0\n",
       "890         0       3  32.0      0   7.7500    1     466       2.0\n",
       "\n",
       "[889 rows x 8 columns]"
      ]
     },
     "execution_count": 50,
     "metadata": {},
     "output_type": "execute_result"
    }
   ],
   "source": [
    "df"
   ]
  },
  {
   "cell_type": "code",
   "execution_count": 51,
   "id": "8d4a178d",
   "metadata": {
    "execution": {
     "iopub.execute_input": "2024-07-20T21:43:00.086530Z",
     "iopub.status.busy": "2024-07-20T21:43:00.086111Z",
     "iopub.status.idle": "2024-07-20T21:43:00.112915Z",
     "shell.execute_reply": "2024-07-20T21:43:00.111866Z"
    },
    "papermill": {
     "duration": 0.057463,
     "end_time": "2024-07-20T21:43:00.115331",
     "exception": false,
     "start_time": "2024-07-20T21:43:00.057868",
     "status": "completed"
    },
    "tags": []
   },
   "outputs": [
    {
     "data": {
      "text/html": [
       "<div>\n",
       "<style scoped>\n",
       "    .dataframe tbody tr th:only-of-type {\n",
       "        vertical-align: middle;\n",
       "    }\n",
       "\n",
       "    .dataframe tbody tr th {\n",
       "        vertical-align: top;\n",
       "    }\n",
       "\n",
       "    .dataframe thead th {\n",
       "        text-align: right;\n",
       "    }\n",
       "</style>\n",
       "<table border=\"1\" class=\"dataframe\">\n",
       "  <thead>\n",
       "    <tr style=\"text-align: right;\">\n",
       "      <th></th>\n",
       "      <th>PassengerId</th>\n",
       "      <th>Pclass</th>\n",
       "      <th>Age</th>\n",
       "      <th>SibSp</th>\n",
       "      <th>Parch</th>\n",
       "      <th>Fare</th>\n",
       "    </tr>\n",
       "  </thead>\n",
       "  <tbody>\n",
       "    <tr>\n",
       "      <th>count</th>\n",
       "      <td>418.000000</td>\n",
       "      <td>418.000000</td>\n",
       "      <td>332.000000</td>\n",
       "      <td>418.000000</td>\n",
       "      <td>418.000000</td>\n",
       "      <td>417.000000</td>\n",
       "    </tr>\n",
       "    <tr>\n",
       "      <th>mean</th>\n",
       "      <td>1100.500000</td>\n",
       "      <td>2.265550</td>\n",
       "      <td>30.272590</td>\n",
       "      <td>0.447368</td>\n",
       "      <td>0.392344</td>\n",
       "      <td>35.627188</td>\n",
       "    </tr>\n",
       "    <tr>\n",
       "      <th>std</th>\n",
       "      <td>120.810458</td>\n",
       "      <td>0.841838</td>\n",
       "      <td>14.181209</td>\n",
       "      <td>0.896760</td>\n",
       "      <td>0.981429</td>\n",
       "      <td>55.907576</td>\n",
       "    </tr>\n",
       "    <tr>\n",
       "      <th>min</th>\n",
       "      <td>892.000000</td>\n",
       "      <td>1.000000</td>\n",
       "      <td>0.170000</td>\n",
       "      <td>0.000000</td>\n",
       "      <td>0.000000</td>\n",
       "      <td>0.000000</td>\n",
       "    </tr>\n",
       "    <tr>\n",
       "      <th>25%</th>\n",
       "      <td>996.250000</td>\n",
       "      <td>1.000000</td>\n",
       "      <td>21.000000</td>\n",
       "      <td>0.000000</td>\n",
       "      <td>0.000000</td>\n",
       "      <td>7.895800</td>\n",
       "    </tr>\n",
       "    <tr>\n",
       "      <th>50%</th>\n",
       "      <td>1100.500000</td>\n",
       "      <td>3.000000</td>\n",
       "      <td>27.000000</td>\n",
       "      <td>0.000000</td>\n",
       "      <td>0.000000</td>\n",
       "      <td>14.454200</td>\n",
       "    </tr>\n",
       "    <tr>\n",
       "      <th>75%</th>\n",
       "      <td>1204.750000</td>\n",
       "      <td>3.000000</td>\n",
       "      <td>39.000000</td>\n",
       "      <td>1.000000</td>\n",
       "      <td>0.000000</td>\n",
       "      <td>31.500000</td>\n",
       "    </tr>\n",
       "    <tr>\n",
       "      <th>max</th>\n",
       "      <td>1309.000000</td>\n",
       "      <td>3.000000</td>\n",
       "      <td>76.000000</td>\n",
       "      <td>8.000000</td>\n",
       "      <td>9.000000</td>\n",
       "      <td>512.329200</td>\n",
       "    </tr>\n",
       "  </tbody>\n",
       "</table>\n",
       "</div>"
      ],
      "text/plain": [
       "       PassengerId      Pclass         Age       SibSp       Parch        Fare\n",
       "count   418.000000  418.000000  332.000000  418.000000  418.000000  417.000000\n",
       "mean   1100.500000    2.265550   30.272590    0.447368    0.392344   35.627188\n",
       "std     120.810458    0.841838   14.181209    0.896760    0.981429   55.907576\n",
       "min     892.000000    1.000000    0.170000    0.000000    0.000000    0.000000\n",
       "25%     996.250000    1.000000   21.000000    0.000000    0.000000    7.895800\n",
       "50%    1100.500000    3.000000   27.000000    0.000000    0.000000   14.454200\n",
       "75%    1204.750000    3.000000   39.000000    1.000000    0.000000   31.500000\n",
       "max    1309.000000    3.000000   76.000000    8.000000    9.000000  512.329200"
      ]
     },
     "execution_count": 51,
     "metadata": {},
     "output_type": "execute_result"
    }
   ],
   "source": [
    "x.describe()"
   ]
  },
  {
   "cell_type": "code",
   "execution_count": 52,
   "id": "17d8c20f",
   "metadata": {
    "execution": {
     "iopub.execute_input": "2024-07-20T21:43:00.172287Z",
     "iopub.status.busy": "2024-07-20T21:43:00.171899Z",
     "iopub.status.idle": "2024-07-20T21:43:00.184731Z",
     "shell.execute_reply": "2024-07-20T21:43:00.183594Z"
    },
    "papermill": {
     "duration": 0.044129,
     "end_time": "2024-07-20T21:43:00.187162",
     "exception": false,
     "start_time": "2024-07-20T21:43:00.143033",
     "status": "completed"
    },
    "tags": []
   },
   "outputs": [
    {
     "name": "stdout",
     "output_type": "stream",
     "text": [
      "<class 'pandas.core.frame.DataFrame'>\n",
      "RangeIndex: 418 entries, 0 to 417\n",
      "Data columns (total 11 columns):\n",
      " #   Column       Non-Null Count  Dtype  \n",
      "---  ------       --------------  -----  \n",
      " 0   PassengerId  418 non-null    int64  \n",
      " 1   Pclass       418 non-null    int64  \n",
      " 2   Name         418 non-null    object \n",
      " 3   Sex          418 non-null    object \n",
      " 4   Age          332 non-null    float64\n",
      " 5   SibSp        418 non-null    int64  \n",
      " 6   Parch        418 non-null    int64  \n",
      " 7   Ticket       418 non-null    object \n",
      " 8   Fare         417 non-null    float64\n",
      " 9   Cabin        91 non-null     object \n",
      " 10  Embarked     418 non-null    object \n",
      "dtypes: float64(2), int64(4), object(5)\n",
      "memory usage: 36.0+ KB\n"
     ]
    }
   ],
   "source": [
    "x.info()"
   ]
  },
  {
   "cell_type": "code",
   "execution_count": 53,
   "id": "25dc3cb6",
   "metadata": {
    "execution": {
     "iopub.execute_input": "2024-07-20T21:43:00.245578Z",
     "iopub.status.busy": "2024-07-20T21:43:00.245166Z",
     "iopub.status.idle": "2024-07-20T21:43:00.253464Z",
     "shell.execute_reply": "2024-07-20T21:43:00.252548Z"
    },
    "papermill": {
     "duration": 0.039302,
     "end_time": "2024-07-20T21:43:00.255569",
     "exception": false,
     "start_time": "2024-07-20T21:43:00.216267",
     "status": "completed"
    },
    "tags": []
   },
   "outputs": [
    {
     "data": {
      "text/plain": [
       "PassengerId      0\n",
       "Pclass           0\n",
       "Name             0\n",
       "Sex              0\n",
       "Age             86\n",
       "SibSp            0\n",
       "Parch            0\n",
       "Ticket           0\n",
       "Fare             1\n",
       "Cabin          327\n",
       "Embarked         0\n",
       "dtype: int64"
      ]
     },
     "execution_count": 53,
     "metadata": {},
     "output_type": "execute_result"
    }
   ],
   "source": [
    "x.isna().sum()"
   ]
  },
  {
   "cell_type": "code",
   "execution_count": 54,
   "id": "31f86e19",
   "metadata": {
    "execution": {
     "iopub.execute_input": "2024-07-20T21:43:00.313235Z",
     "iopub.status.busy": "2024-07-20T21:43:00.312838Z",
     "iopub.status.idle": "2024-07-20T21:43:00.319583Z",
     "shell.execute_reply": "2024-07-20T21:43:00.318481Z"
    },
    "papermill": {
     "duration": 0.038084,
     "end_time": "2024-07-20T21:43:00.321787",
     "exception": false,
     "start_time": "2024-07-20T21:43:00.283703",
     "status": "completed"
    },
    "tags": []
   },
   "outputs": [],
   "source": [
    "x=x.drop(['Cabin'],axis=1)\n",
    "x=x.drop(['Name'],axis=1)"
   ]
  },
  {
   "cell_type": "code",
   "execution_count": 55,
   "id": "f5e375e3",
   "metadata": {
    "execution": {
     "iopub.execute_input": "2024-07-20T21:43:00.379064Z",
     "iopub.status.busy": "2024-07-20T21:43:00.378668Z",
     "iopub.status.idle": "2024-07-20T21:43:00.383724Z",
     "shell.execute_reply": "2024-07-20T21:43:00.382659Z"
    },
    "papermill": {
     "duration": 0.036657,
     "end_time": "2024-07-20T21:43:00.386156",
     "exception": false,
     "start_time": "2024-07-20T21:43:00.349499",
     "status": "completed"
    },
    "tags": []
   },
   "outputs": [],
   "source": [
    "def null():\n",
    "    s=(x.isna().sum())/len(x)\n",
    "    return s"
   ]
  },
  {
   "cell_type": "code",
   "execution_count": 56,
   "id": "1fef5c4c",
   "metadata": {
    "execution": {
     "iopub.execute_input": "2024-07-20T21:43:00.444601Z",
     "iopub.status.busy": "2024-07-20T21:43:00.443473Z",
     "iopub.status.idle": "2024-07-20T21:43:00.720079Z",
     "shell.execute_reply": "2024-07-20T21:43:00.718990Z"
    },
    "papermill": {
     "duration": 0.308392,
     "end_time": "2024-07-20T21:43:00.722347",
     "exception": false,
     "start_time": "2024-07-20T21:43:00.413955",
     "status": "completed"
    },
    "tags": []
   },
   "outputs": [
    {
     "data": {
      "image/png": "[encoded data removed]",
      "text/plain": [
       "<Figure size 1600x900 with 1 Axes>"
      ]
     },
     "metadata": {},
     "output_type": "display_data"
    }
   ],
   "source": [
    "fig=plt.subplots(figsize=(16,9),dpi=100)\n",
    "n=null()\n",
    "plt.bar(n.index,n.values)\n",
    "plt.show()"
   ]
  },
  {
   "cell_type": "code",
   "execution_count": 57,
   "id": "5d8eab82",
   "metadata": {
    "execution": {
     "iopub.execute_input": "2024-07-20T21:43:00.793335Z",
     "iopub.status.busy": "2024-07-20T21:43:00.792945Z",
     "iopub.status.idle": "2024-07-20T21:43:00.800132Z",
     "shell.execute_reply": "2024-07-20T21:43:00.799032Z"
    },
    "papermill": {
     "duration": 0.043698,
     "end_time": "2024-07-20T21:43:00.803142",
     "exception": false,
     "start_time": "2024-07-20T21:43:00.759444",
     "status": "completed"
    },
    "tags": []
   },
   "outputs": [],
   "source": [
    "x=x.fillna(x['Age'].median())"
   ]
  },
  {
   "cell_type": "code",
   "execution_count": 58,
   "id": "8a071e16",
   "metadata": {
    "execution": {
     "iopub.execute_input": "2024-07-20T21:43:00.865934Z",
     "iopub.status.busy": "2024-07-20T21:43:00.865504Z",
     "iopub.status.idle": "2024-07-20T21:43:00.871883Z",
     "shell.execute_reply": "2024-07-20T21:43:00.870708Z"
    },
    "papermill": {
     "duration": 0.038387,
     "end_time": "2024-07-20T21:43:00.874148",
     "exception": false,
     "start_time": "2024-07-20T21:43:00.835761",
     "status": "completed"
    },
    "tags": []
   },
   "outputs": [],
   "source": [
    "obj=x.select_dtypes(include='object')\n",
    "num=x.select_dtypes(exclude='object')"
   ]
  },
  {
   "cell_type": "code",
   "execution_count": 59,
   "id": "ec95e4a8",
   "metadata": {
    "execution": {
     "iopub.execute_input": "2024-07-20T21:43:00.944890Z",
     "iopub.status.busy": "2024-07-20T21:43:00.943766Z",
     "iopub.status.idle": "2024-07-20T21:43:00.952625Z",
     "shell.execute_reply": "2024-07-20T21:43:00.950578Z"
    },
    "papermill": {
     "duration": 0.050923,
     "end_time": "2024-07-20T21:43:00.954971",
     "exception": false,
     "start_time": "2024-07-20T21:43:00.904048",
     "status": "completed"
    },
    "tags": []
   },
   "outputs": [],
   "source": [
    "obj['Sex']=pd.get_dummies(obj['Sex'],drop_first=True)"
   ]
  },
  {
   "cell_type": "code",
   "execution_count": 60,
   "id": "27b1bafe",
   "metadata": {
    "execution": {
     "iopub.execute_input": "2024-07-20T21:43:01.014384Z",
     "iopub.status.busy": "2024-07-20T21:43:01.014017Z",
     "iopub.status.idle": "2024-07-20T21:43:01.020423Z",
     "shell.execute_reply": "2024-07-20T21:43:01.019231Z"
    },
    "papermill": {
     "duration": 0.039461,
     "end_time": "2024-07-20T21:43:01.023215",
     "exception": false,
     "start_time": "2024-07-20T21:43:00.983754",
     "status": "completed"
    },
    "tags": []
   },
   "outputs": [],
   "source": [
    "obj['Sex']=obj['Sex'].map({True:1,False:0})"
   ]
  },
  {
   "cell_type": "code",
   "execution_count": 61,
   "id": "2ac9f690",
   "metadata": {
    "execution": {
     "iopub.execute_input": "2024-07-20T21:43:01.090273Z",
     "iopub.status.busy": "2024-07-20T21:43:01.089774Z",
     "iopub.status.idle": "2024-07-20T21:43:01.097591Z",
     "shell.execute_reply": "2024-07-20T21:43:01.096428Z"
    },
    "papermill": {
     "duration": 0.040517,
     "end_time": "2024-07-20T21:43:01.099801",
     "exception": false,
     "start_time": "2024-07-20T21:43:01.059284",
     "status": "completed"
    },
    "tags": []
   },
   "outputs": [],
   "source": [
    "obj['Embarked']=str(obj['Embarked'])"
   ]
  },
  {
   "cell_type": "code",
   "execution_count": 62,
   "id": "62b6a86e",
   "metadata": {
    "execution": {
     "iopub.execute_input": "2024-07-20T21:43:01.169547Z",
     "iopub.status.busy": "2024-07-20T21:43:01.168352Z",
     "iopub.status.idle": "2024-07-20T21:43:01.174181Z",
     "shell.execute_reply": "2024-07-20T21:43:01.173023Z"
    },
    "papermill": {
     "duration": 0.038203,
     "end_time": "2024-07-20T21:43:01.176403",
     "exception": false,
     "start_time": "2024-07-20T21:43:01.138200",
     "status": "completed"
    },
    "tags": []
   },
   "outputs": [],
   "source": [
    "map_Embarked={\n",
    "    'S':0,\n",
    "    'C':1,\n",
    "    'Q':2,\n",
    "    \n",
    "}"
   ]
  },
  {
   "cell_type": "code",
   "execution_count": 63,
   "id": "a0c6ac7e",
   "metadata": {
    "execution": {
     "iopub.execute_input": "2024-07-20T21:43:01.243330Z",
     "iopub.status.busy": "2024-07-20T21:43:01.242946Z",
     "iopub.status.idle": "2024-07-20T21:43:01.249073Z",
     "shell.execute_reply": "2024-07-20T21:43:01.247926Z"
    },
    "papermill": {
     "duration": 0.03965,
     "end_time": "2024-07-20T21:43:01.251222",
     "exception": false,
     "start_time": "2024-07-20T21:43:01.211572",
     "status": "completed"
    },
    "tags": []
   },
   "outputs": [],
   "source": [
    "obj['Embarked']=x['Embarked'].map(map_Embarked)"
   ]
  },
  {
   "cell_type": "code",
   "execution_count": 64,
   "id": "9c05a776",
   "metadata": {
    "execution": {
     "iopub.execute_input": "2024-07-20T21:43:01.309708Z",
     "iopub.status.busy": "2024-07-20T21:43:01.308837Z",
     "iopub.status.idle": "2024-07-20T21:43:01.322694Z",
     "shell.execute_reply": "2024-07-20T21:43:01.321534Z"
    },
    "papermill": {
     "duration": 0.04561,
     "end_time": "2024-07-20T21:43:01.325026",
     "exception": false,
     "start_time": "2024-07-20T21:43:01.279416",
     "status": "completed"
    },
    "tags": []
   },
   "outputs": [
    {
     "data": {
      "text/html": [
       "<div>\n",
       "<style scoped>\n",
       "    .dataframe tbody tr th:only-of-type {\n",
       "        vertical-align: middle;\n",
       "    }\n",
       "\n",
       "    .dataframe tbody tr th {\n",
       "        vertical-align: top;\n",
       "    }\n",
       "\n",
       "    .dataframe thead th {\n",
       "        text-align: right;\n",
       "    }\n",
       "</style>\n",
       "<table border=\"1\" class=\"dataframe\">\n",
       "  <thead>\n",
       "    <tr style=\"text-align: right;\">\n",
       "      <th></th>\n",
       "      <th>Sex</th>\n",
       "      <th>Ticket</th>\n",
       "      <th>Embarked</th>\n",
       "    </tr>\n",
       "  </thead>\n",
       "  <tbody>\n",
       "    <tr>\n",
       "      <th>0</th>\n",
       "      <td>1</td>\n",
       "      <td>152</td>\n",
       "      <td>2</td>\n",
       "    </tr>\n",
       "    <tr>\n",
       "      <th>1</th>\n",
       "      <td>0</td>\n",
       "      <td>221</td>\n",
       "      <td>0</td>\n",
       "    </tr>\n",
       "    <tr>\n",
       "      <th>2</th>\n",
       "      <td>1</td>\n",
       "      <td>73</td>\n",
       "      <td>2</td>\n",
       "    </tr>\n",
       "    <tr>\n",
       "      <th>3</th>\n",
       "      <td>1</td>\n",
       "      <td>147</td>\n",
       "      <td>0</td>\n",
       "    </tr>\n",
       "    <tr>\n",
       "      <th>4</th>\n",
       "      <td>0</td>\n",
       "      <td>138</td>\n",
       "      <td>0</td>\n",
       "    </tr>\n",
       "    <tr>\n",
       "      <th>...</th>\n",
       "      <td>...</td>\n",
       "      <td>...</td>\n",
       "      <td>...</td>\n",
       "    </tr>\n",
       "    <tr>\n",
       "      <th>413</th>\n",
       "      <td>1</td>\n",
       "      <td>267</td>\n",
       "      <td>0</td>\n",
       "    </tr>\n",
       "    <tr>\n",
       "      <th>414</th>\n",
       "      <td>0</td>\n",
       "      <td>324</td>\n",
       "      <td>1</td>\n",
       "    </tr>\n",
       "    <tr>\n",
       "      <th>415</th>\n",
       "      <td>1</td>\n",
       "      <td>346</td>\n",
       "      <td>0</td>\n",
       "    </tr>\n",
       "    <tr>\n",
       "      <th>416</th>\n",
       "      <td>1</td>\n",
       "      <td>220</td>\n",
       "      <td>0</td>\n",
       "    </tr>\n",
       "    <tr>\n",
       "      <th>417</th>\n",
       "      <td>1</td>\n",
       "      <td>105</td>\n",
       "      <td>1</td>\n",
       "    </tr>\n",
       "  </tbody>\n",
       "</table>\n",
       "<p>418 rows × 3 columns</p>\n",
       "</div>"
      ],
      "text/plain": [
       "     Sex  Ticket  Embarked\n",
       "0      1     152         2\n",
       "1      0     221         0\n",
       "2      1      73         2\n",
       "3      1     147         0\n",
       "4      0     138         0\n",
       "..   ...     ...       ...\n",
       "413    1     267         0\n",
       "414    0     324         1\n",
       "415    1     346         0\n",
       "416    1     220         0\n",
       "417    1     105         1\n",
       "\n",
       "[418 rows x 3 columns]"
      ]
     },
     "execution_count": 64,
     "metadata": {},
     "output_type": "execute_result"
    }
   ],
   "source": [
    "\n",
    "f=LabelEncoder()\n",
    "f.fit(obj['Ticket'])\n",
    "obj['Ticket']=f.transform(obj['Ticket'])\n",
    "obj"
   ]
  },
  {
   "cell_type": "code",
   "execution_count": 65,
   "id": "aa7b2838",
   "metadata": {
    "execution": {
     "iopub.execute_input": "2024-07-20T21:43:01.385448Z",
     "iopub.status.busy": "2024-07-20T21:43:01.384431Z",
     "iopub.status.idle": "2024-07-20T21:43:01.390921Z",
     "shell.execute_reply": "2024-07-20T21:43:01.389727Z"
    },
    "papermill": {
     "duration": 0.03943,
     "end_time": "2024-07-20T21:43:01.393258",
     "exception": false,
     "start_time": "2024-07-20T21:43:01.353828",
     "status": "completed"
    },
    "tags": []
   },
   "outputs": [],
   "source": [
    "\n",
    "x=pd.concat([num,obj],axis=1)"
   ]
  },
  {
   "cell_type": "code",
   "execution_count": 66,
   "id": "8e4ed927",
   "metadata": {
    "execution": {
     "iopub.execute_input": "2024-07-20T21:43:01.453862Z",
     "iopub.status.busy": "2024-07-20T21:43:01.452847Z",
     "iopub.status.idle": "2024-07-20T21:43:01.459722Z",
     "shell.execute_reply": "2024-07-20T21:43:01.458609Z"
    },
    "papermill": {
     "duration": 0.039572,
     "end_time": "2024-07-20T21:43:01.462311",
     "exception": false,
     "start_time": "2024-07-20T21:43:01.422739",
     "status": "completed"
    },
    "tags": []
   },
   "outputs": [],
   "source": [
    "x=x.drop('Parch',axis=1)"
   ]
  },
  {
   "cell_type": "code",
   "execution_count": 67,
   "id": "4e97ae38",
   "metadata": {
    "execution": {
     "iopub.execute_input": "2024-07-20T21:43:01.523410Z",
     "iopub.status.busy": "2024-07-20T21:43:01.522430Z",
     "iopub.status.idle": "2024-07-20T21:43:01.735916Z",
     "shell.execute_reply": "2024-07-20T21:43:01.734817Z"
    },
    "papermill": {
     "duration": 0.24626,
     "end_time": "2024-07-20T21:43:01.738721",
     "exception": false,
     "start_time": "2024-07-20T21:43:01.492461",
     "status": "completed"
    },
    "tags": []
   },
   "outputs": [
    {
     "data": {
      "image/png": "[encoded data removed]",
      "text/plain": [
       "<Figure size 640x480 with 1 Axes>"
      ]
     },
     "metadata": {},
     "output_type": "display_data"
    }
   ],
   "source": [
    "n=null()\n",
    "plt.bar(n.index,n.values)\n",
    "plt.show()"
   ]
  },
  {
   "cell_type": "code",
   "execution_count": 68,
   "id": "2f774401",
   "metadata": {
    "execution": {
     "iopub.execute_input": "2024-07-20T21:43:01.801483Z",
     "iopub.status.busy": "2024-07-20T21:43:01.800406Z",
     "iopub.status.idle": "2024-07-20T21:43:01.807621Z",
     "shell.execute_reply": "2024-07-20T21:43:01.806336Z"
    },
    "papermill": {
     "duration": 0.039645,
     "end_time": "2024-07-20T21:43:01.809883",
     "exception": false,
     "start_time": "2024-07-20T21:43:01.770238",
     "status": "completed"
    },
    "tags": []
   },
   "outputs": [],
   "source": [
    "x=x.drop('PassengerId',axis=1)"
   ]
  },
  {
   "cell_type": "code",
   "execution_count": 69,
   "id": "ef4a206a",
   "metadata": {
    "execution": {
     "iopub.execute_input": "2024-07-20T21:43:01.869482Z",
     "iopub.status.busy": "2024-07-20T21:43:01.868476Z",
     "iopub.status.idle": "2024-07-20T21:43:01.876562Z",
     "shell.execute_reply": "2024-07-20T21:43:01.875482Z"
    },
    "papermill": {
     "duration": 0.040184,
     "end_time": "2024-07-20T21:43:01.878823",
     "exception": false,
     "start_time": "2024-07-20T21:43:01.838639",
     "status": "completed"
    },
    "tags": []
   },
   "outputs": [],
   "source": [
    "x=scal.transform(x)"
   ]
  },
  {
   "cell_type": "code",
   "execution_count": 70,
   "id": "039538c9",
   "metadata": {
    "execution": {
     "iopub.execute_input": "2024-07-20T21:43:01.939148Z",
     "iopub.status.busy": "2024-07-20T21:43:01.938776Z",
     "iopub.status.idle": "2024-07-20T21:43:01.961626Z",
     "shell.execute_reply": "2024-07-20T21:43:01.960324Z"
    },
    "papermill": {
     "duration": 0.055557,
     "end_time": "2024-07-20T21:43:01.964175",
     "exception": false,
     "start_time": "2024-07-20T21:43:01.908618",
     "status": "completed"
    },
    "tags": []
   },
   "outputs": [],
   "source": [
    "pred_y=model.predict(x)"
   ]
  },
  {
   "cell_type": "code",
   "execution_count": 71,
   "id": "ca0bc764",
   "metadata": {
    "execution": {
     "iopub.execute_input": "2024-07-20T21:43:02.026148Z",
     "iopub.status.busy": "2024-07-20T21:43:02.025778Z",
     "iopub.status.idle": "2024-07-20T21:43:02.035406Z",
     "shell.execute_reply": "2024-07-20T21:43:02.034357Z"
    },
    "papermill": {
     "duration": 0.042439,
     "end_time": "2024-07-20T21:43:02.037885",
     "exception": false,
     "start_time": "2024-07-20T21:43:01.995446",
     "status": "completed"
    },
    "tags": []
   },
   "outputs": [],
   "source": [
    "r=pd.read_csv('/kaggle/input/titanic/gender_submission.csv')"
   ]
  },
  {
   "cell_type": "code",
   "execution_count": 72,
   "id": "3f7506fb",
   "metadata": {
    "execution": {
     "iopub.execute_input": "2024-07-20T21:43:02.097041Z",
     "iopub.status.busy": "2024-07-20T21:43:02.096645Z",
     "iopub.status.idle": "2024-07-20T21:43:02.101435Z",
     "shell.execute_reply": "2024-07-20T21:43:02.100528Z"
    },
    "papermill": {
     "duration": 0.036791,
     "end_time": "2024-07-20T21:43:02.103648",
     "exception": false,
     "start_time": "2024-07-20T21:43:02.066857",
     "status": "completed"
    },
    "tags": []
   },
   "outputs": [],
   "source": [
    "y=r['Survived']"
   ]
  },
  {
   "cell_type": "code",
   "execution_count": 73,
   "id": "5b953bda",
   "metadata": {
    "execution": {
     "iopub.execute_input": "2024-07-20T21:43:02.162832Z",
     "iopub.status.busy": "2024-07-20T21:43:02.162144Z",
     "iopub.status.idle": "2024-07-20T21:43:02.169761Z",
     "shell.execute_reply": "2024-07-20T21:43:02.168549Z"
    },
    "papermill": {
     "duration": 0.039491,
     "end_time": "2024-07-20T21:43:02.171889",
     "exception": false,
     "start_time": "2024-07-20T21:43:02.132398",
     "status": "completed"
    },
    "tags": []
   },
   "outputs": [
    {
     "name": "stdout",
     "output_type": "stream",
     "text": [
      "[[245  21]\n",
      " [ 22 130]]\n"
     ]
    }
   ],
   "source": [
    "print(confusion_matrix(y,pred_y))"
   ]
  },
  {
   "cell_type": "code",
   "execution_count": 74,
   "id": "b0c24561",
   "metadata": {
    "execution": {
     "iopub.execute_input": "2024-07-20T21:43:02.231893Z",
     "iopub.status.busy": "2024-07-20T21:43:02.231499Z",
     "iopub.status.idle": "2024-07-20T21:43:02.245771Z",
     "shell.execute_reply": "2024-07-20T21:43:02.244246Z"
    },
    "papermill": {
     "duration": 0.047299,
     "end_time": "2024-07-20T21:43:02.248120",
     "exception": false,
     "start_time": "2024-07-20T21:43:02.200821",
     "status": "completed"
    },
    "tags": []
   },
   "outputs": [
    {
     "name": "stdout",
     "output_type": "stream",
     "text": [
      "              precision    recall  f1-score   support\n",
      "\n",
      "           0       0.92      0.92      0.92       266\n",
      "           1       0.86      0.86      0.86       152\n",
      "\n",
      "    accuracy                           0.90       418\n",
      "   macro avg       0.89      0.89      0.89       418\n",
      "weighted avg       0.90      0.90      0.90       418\n",
      "\n"
     ]
    }
   ],
   "source": [
    "print(classification_report(y,pred_y))"
   ]
  },
  {
   "cell_type": "code",
   "execution_count": 75,
   "id": "74d0a016",
   "metadata": {
    "execution": {
     "iopub.execute_input": "2024-07-20T21:43:02.308475Z",
     "iopub.status.busy": "2024-07-20T21:43:02.307564Z",
     "iopub.status.idle": "2024-07-20T21:43:02.316871Z",
     "shell.execute_reply": "2024-07-20T21:43:02.315660Z"
    },
    "papermill": {
     "duration": 0.042231,
     "end_time": "2024-07-20T21:43:02.319179",
     "exception": false,
     "start_time": "2024-07-20T21:43:02.276948",
     "status": "completed"
    },
    "tags": []
   },
   "outputs": [
    {
     "name": "stdout",
     "output_type": "stream",
     "text": [
      "0.8609271523178808\n"
     ]
    }
   ],
   "source": [
    "print(precision_score(y,pred_y))"
   ]
  },
  {
   "cell_type": "code",
   "execution_count": 76,
   "id": "60b35f56",
   "metadata": {
    "execution": {
     "iopub.execute_input": "2024-07-20T21:43:02.384324Z",
     "iopub.status.busy": "2024-07-20T21:43:02.383917Z",
     "iopub.status.idle": "2024-07-20T21:43:02.393000Z",
     "shell.execute_reply": "2024-07-20T21:43:02.391945Z"
    },
    "papermill": {
     "duration": 0.045127,
     "end_time": "2024-07-20T21:43:02.395264",
     "exception": false,
     "start_time": "2024-07-20T21:43:02.350137",
     "status": "completed"
    },
    "tags": []
   },
   "outputs": [
    {
     "name": "stdout",
     "output_type": "stream",
     "text": [
      "0.8552631578947368\n"
     ]
    }
   ],
   "source": [
    "print(recall_score(y,pred_y))"
   ]
  },
  {
   "cell_type": "code",
   "execution_count": 77,
   "id": "c85ad236",
   "metadata": {
    "execution": {
     "iopub.execute_input": "2024-07-20T21:43:02.455444Z",
     "iopub.status.busy": "2024-07-20T21:43:02.455050Z",
     "iopub.status.idle": "2024-07-20T21:43:02.461408Z",
     "shell.execute_reply": "2024-07-20T21:43:02.459995Z"
    },
    "papermill": {
     "duration": 0.039811,
     "end_time": "2024-07-20T21:43:02.464637",
     "exception": false,
     "start_time": "2024-07-20T21:43:02.424826",
     "status": "completed"
    },
    "tags": []
   },
   "outputs": [],
   "source": [
    "r['y_predict']=pred_y"
   ]
  },
  {
   "cell_type": "code",
   "execution_count": 78,
   "id": "b9586aeb",
   "metadata": {
    "execution": {
     "iopub.execute_input": "2024-07-20T21:43:02.543613Z",
     "iopub.status.busy": "2024-07-20T21:43:02.543125Z",
     "iopub.status.idle": "2024-07-20T21:43:02.556570Z",
     "shell.execute_reply": "2024-07-20T21:43:02.555501Z"
    },
    "papermill": {
     "duration": 0.055793,
     "end_time": "2024-07-20T21:43:02.558797",
     "exception": false,
     "start_time": "2024-07-20T21:43:02.503004",
     "status": "completed"
    },
    "tags": []
   },
   "outputs": [
    {
     "data": {
      "text/html": [
       "<div>\n",
       "<style scoped>\n",
       "    .dataframe tbody tr th:only-of-type {\n",
       "        vertical-align: middle;\n",
       "    }\n",
       "\n",
       "    .dataframe tbody tr th {\n",
       "        vertical-align: top;\n",
       "    }\n",
       "\n",
       "    .dataframe thead th {\n",
       "        text-align: right;\n",
       "    }\n",
       "</style>\n",
       "<table border=\"1\" class=\"dataframe\">\n",
       "  <thead>\n",
       "    <tr style=\"text-align: right;\">\n",
       "      <th></th>\n",
       "      <th>PassengerId</th>\n",
       "      <th>Survived</th>\n",
       "      <th>y_predict</th>\n",
       "    </tr>\n",
       "  </thead>\n",
       "  <tbody>\n",
       "    <tr>\n",
       "      <th>0</th>\n",
       "      <td>892</td>\n",
       "      <td>0</td>\n",
       "      <td>0</td>\n",
       "    </tr>\n",
       "    <tr>\n",
       "      <th>1</th>\n",
       "      <td>893</td>\n",
       "      <td>1</td>\n",
       "      <td>0</td>\n",
       "    </tr>\n",
       "    <tr>\n",
       "      <th>2</th>\n",
       "      <td>894</td>\n",
       "      <td>0</td>\n",
       "      <td>0</td>\n",
       "    </tr>\n",
       "    <tr>\n",
       "      <th>3</th>\n",
       "      <td>895</td>\n",
       "      <td>0</td>\n",
       "      <td>0</td>\n",
       "    </tr>\n",
       "    <tr>\n",
       "      <th>4</th>\n",
       "      <td>896</td>\n",
       "      <td>1</td>\n",
       "      <td>1</td>\n",
       "    </tr>\n",
       "    <tr>\n",
       "      <th>...</th>\n",
       "      <td>...</td>\n",
       "      <td>...</td>\n",
       "      <td>...</td>\n",
       "    </tr>\n",
       "    <tr>\n",
       "      <th>413</th>\n",
       "      <td>1305</td>\n",
       "      <td>0</td>\n",
       "      <td>0</td>\n",
       "    </tr>\n",
       "    <tr>\n",
       "      <th>414</th>\n",
       "      <td>1306</td>\n",
       "      <td>1</td>\n",
       "      <td>1</td>\n",
       "    </tr>\n",
       "    <tr>\n",
       "      <th>415</th>\n",
       "      <td>1307</td>\n",
       "      <td>0</td>\n",
       "      <td>0</td>\n",
       "    </tr>\n",
       "    <tr>\n",
       "      <th>416</th>\n",
       "      <td>1308</td>\n",
       "      <td>0</td>\n",
       "      <td>0</td>\n",
       "    </tr>\n",
       "    <tr>\n",
       "      <th>417</th>\n",
       "      <td>1309</td>\n",
       "      <td>0</td>\n",
       "      <td>0</td>\n",
       "    </tr>\n",
       "  </tbody>\n",
       "</table>\n",
       "<p>418 rows × 3 columns</p>\n",
       "</div>"
      ],
      "text/plain": [
       "     PassengerId  Survived  y_predict\n",
       "0            892         0          0\n",
       "1            893         1          0\n",
       "2            894         0          0\n",
       "3            895         0          0\n",
       "4            896         1          1\n",
       "..           ...       ...        ...\n",
       "413         1305         0          0\n",
       "414         1306         1          1\n",
       "415         1307         0          0\n",
       "416         1308         0          0\n",
       "417         1309         0          0\n",
       "\n",
       "[418 rows x 3 columns]"
      ]
     },
     "execution_count": 78,
     "metadata": {},
     "output_type": "execute_result"
    }
   ],
   "source": [
    "r"
   ]
  },
  {
   "cell_type": "code",
   "execution_count": null,
   "id": "423220e6",
   "metadata": {
    "papermill": {
     "duration": 0.029438,
     "end_time": "2024-07-20T21:43:02.617677",
     "exception": false,
     "start_time": "2024-07-20T21:43:02.588239",
     "status": "completed"
    },
    "tags": []
   },
   "outputs": [],
   "source": []
  }
 ],
 "metadata": {
  "kaggle": {
   "accelerator": "none",
   "dataSources": [
    {
     "databundleVersionId": 26502,
     "sourceId": 3136,
     "sourceType": "competition"
    }
   ],
   "dockerImageVersionId": 30746,
   "isGpuEnabled": false,
   "isInternetEnabled": true,
   "language": "python",
   "sourceType": "notebook"
  },
  "kernelspec": {
   "display_name": "Python 3",
   "language": "python",
   "name": "python3"
  },
  "language_info": {
   "codemirror_mode": {
    "name": "ipython",
    "version": 3
   },
   "file_extension": ".py",
   "mimetype": "text/x-python",
   "name": "python",
   "nbconvert_exporter": "python",
   "pygments_lexer": "ipython3",
   "version": "3.10.13"
  },
  "papermill": {
   "default_parameters": {},
   "duration": 100.510076,
   "end_time": "2024-07-20T21:43:03.269189",
   "environment_variables": {},
   "exception": null,
   "input_path": "__notebook__.ipynb",
   "output_path": "__notebook__.ipynb",
   "parameters": {},
   "start_time": "2024-07-20T21:41:22.759113",
   "version": "2.5.0"
  }
 },
 "nbformat": 4,
 "nbformat_minor": 5
}
